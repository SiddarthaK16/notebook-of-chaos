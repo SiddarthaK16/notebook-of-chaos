{
 "cells": [
  {
   "cell_type": "code",
   "execution_count": 2,
   "id": "60ebb448",
   "metadata": {},
   "outputs": [],
   "source": [
    "import numpy as np"
   ]
  },
  {
   "cell_type": "code",
   "execution_count": 4,
   "id": "f9de19a7",
   "metadata": {},
   "outputs": [
    {
     "name": "stdout",
     "output_type": "stream",
     "text": [
      "1D array is :  [1 4 6 9]\n",
      "2D array is :  [[ 1  3  5  7  9]\n",
      " [ 2  4  6  8 10]]\n"
     ]
    }
   ],
   "source": [
    "a=np.array([1,4,6,9])\n",
    "print(\"1D array is : \",a)\n",
    "b=np.array([[1,3,5,7,9],[2,4,6,8,10]])\n",
    "print(\"2D array is : \",b)\n"
   ]
  },
  {
   "cell_type": "markdown",
   "id": "ac7480b9",
   "metadata": {},
   "source": [
    "# PYTHON LISTS vs NUMPY ARRAYS"
   ]
  },
  {
   "cell_type": "code",
   "execution_count": 5,
   "id": "0a873440",
   "metadata": {},
   "outputs": [
    {
     "name": "stdout",
     "output_type": "stream",
     "text": [
      "The list multiplied by 2 is :  [1, 3, 5, 7, 9, 1, 3, 5, 7, 9]\n",
      "The array multiplied by 2 is :  [ 2  6 10 14 18]\n"
     ]
    }
   ],
   "source": [
    "py_lists=[1,3,5,7,9]\n",
    "print(\"The list multiplied by 2 is : \",py_lists*2)\n",
    "\n",
    "numpy_array=np.array([1,3,5,7,9])\n",
    "print(\"The array multiplied by 2 is : \",numpy_array*2)  #Element wise multiplication"
   ]
  },
  {
   "cell_type": "code",
   "execution_count": 8,
   "id": "71a3d1ca",
   "metadata": {},
   "outputs": [
    {
     "name": "stdout",
     "output_type": "stream",
     "text": [
      "The time taken by list is :  0.1153709888458252\n",
      "The time taken by array is :  0.0003268718719482422\n"
     ]
    }
   ],
   "source": [
    "import time\n",
    "\n",
    "start=time.time()\n",
    "\n",
    "py_list= [i*2 for i in  range (1000000)]\n",
    "print(\"The time taken by list is : \",time.time()-start)\n",
    "\n",
    "start=time.time()\n",
    "numpy_array=np.arange(100000)\n",
    "print(\"The time taken by array is : \",time.time()-start)\n",
    "\n",
    "#See the numpy is faster....\n",
    "\n"
   ]
  },
  {
   "cell_type": "markdown",
   "id": "b9c3ee2d",
   "metadata": {},
   "source": [
    "# CREATING ARRAYS FROM SCRATCH"
   ]
  },
  {
   "cell_type": "code",
   "execution_count": 9,
   "id": "f9980e95",
   "metadata": {},
   "outputs": [
    {
     "name": "stdout",
     "output_type": "stream",
     "text": [
      "[[0. 0. 0. 0. 0.]\n",
      " [0. 0. 0. 0. 0.]\n",
      " [0. 0. 0. 0. 0.]\n",
      " [0. 0. 0. 0. 0.]]\n",
      "[[1. 1. 1. 1. 1.]\n",
      " [1. 1. 1. 1. 1.]\n",
      " [1. 1. 1. 1. 1.]\n",
      " [1. 1. 1. 1. 1.]]\n",
      "[[16 16 16 16 16 16 16 16 16]\n",
      " [16 16 16 16 16 16 16 16 16]\n",
      " [16 16 16 16 16 16 16 16 16]\n",
      " [16 16 16 16 16 16 16 16 16]\n",
      " [16 16 16 16 16 16 16 16 16]\n",
      " [16 16 16 16 16 16 16 16 16]\n",
      " [16 16 16 16 16 16 16 16 16]\n",
      " [16 16 16 16 16 16 16 16 16]\n",
      " [16 16 16 16 16 16 16 16 16]\n",
      " [16 16 16 16 16 16 16 16 16]]\n",
      "[[0.17030776 0.1000471  0.27970477 ... 0.48438851 0.06696241 0.88353751]\n",
      " [0.66617627 0.70164236 0.75827505 ... 0.15019575 0.50954706 0.23707206]\n",
      " [0.75512928 0.44927521 0.1639     ... 0.10260511 0.45824452 0.74655727]\n",
      " ...\n",
      " [0.33895269 0.75566011 0.35599626 ... 0.21712715 0.67595149 0.2481625 ]\n",
      " [0.06455988 0.86898315 0.37934366 ... 0.62053118 0.41637965 0.84598104]\n",
      " [0.75276893 0.81454806 0.51227918 ... 0.44168578 0.51007866 0.53933906]]\n",
      "[    2     4     6 ... 99994 99996 99998]\n"
     ]
    }
   ],
   "source": [
    "zero=np.zeros((4,5))\n",
    "print(zero)    #array with all zeros of 4 rows and 5 columns\n",
    "\n",
    "one=np.ones((4,5))\n",
    "print(one)      #array with all ones of 4 rows and 5 columns\n",
    "\n",
    "full=np.full((10,9),16)\n",
    "print(full) #array with all 16s of 10 rows and 9 columns\n",
    "\n",
    "random=np.random.random((100,99))\n",
    "print(random)  #array with random numbers of 100 rows and 99 columns..\n",
    " \n",
    "sequence=np.arange(2,100000,2)   #Start , Stop , Step\n",
    "print(sequence)"
   ]
  },
  {
   "cell_type": "markdown",
   "id": "02ccb4ee",
   "metadata": {},
   "source": [
    "# VECTOR , MATRIX AND TENSOR"
   ]
  },
  {
   "cell_type": "code",
   "execution_count": null,
   "id": "ceaaee64",
   "metadata": {},
   "outputs": [
    {
     "name": "stdout",
     "output_type": "stream",
     "text": [
      "A vector is :  [1 2 3 4 5 6]\n",
      "A matrix is :  [[1 2 3 4]\n",
      " [2 4 5 6]]\n",
      "A tensor is :  [[[ 1  2  3]\n",
      "  [ 4  5  6]]\n",
      "\n",
      " [[ 7  8  9]\n",
      "  [10 11 12]]]\n"
     ]
    }
   ],
   "source": [
    "vector=np.array([1,2,3,4,5,6])\n",
    "print(\"A vector is : \",vector)\n",
    "\n",
    "matrix=np.array([[1,2,3,4],\n",
    "                 [2,4,5,6]])\n",
    "print(\"A matrix is : \",matrix)\n",
    "\n",
    "tensor=np.array([[[1,2,3],[4,5,6]],[[7,8,9],[10,11,12]]])\n",
    "print(\"A tensor is : \",tensor)\n"
   ]
  },
  {
   "cell_type": "markdown",
   "id": "ef7a44d9",
   "metadata": {},
   "source": [
    "# ARRAY PROPERTIES"
   ]
  },
  {
   "cell_type": "code",
   "execution_count": 12,
   "id": "6f550d28",
   "metadata": {},
   "outputs": [
    {
     "name": "stdout",
     "output_type": "stream",
     "text": [
      "Shape is :  (2, 3)\n",
      "Dimensions :  2\n",
      "Size :  6\n",
      "Datatype :  int64\n"
     ]
    }
   ],
   "source": [
    "a=np.array([[1,2,3],\n",
    "            [4,5,6]])\n",
    "\n",
    "print(\"Shape is : \",a.shape) # Rows and columns\n",
    "print(\"Dimensions : \",a.ndim) #Dimensions\n",
    "print(\"Size : \",a.size) #No. of elements\n",
    "print(\"Datatype : \",a.dtype)"
   ]
  },
  {
   "cell_type": "markdown",
   "id": "5769a4ec",
   "metadata": {},
   "source": [
    "# ARRAY RERSHAPING"
   ]
  },
  {
   "cell_type": "code",
   "execution_count": 13,
   "id": "ce0ff87e",
   "metadata": {},
   "outputs": [
    {
     "name": "stdout",
     "output_type": "stream",
     "text": [
      "Original array :  [ 0  1  2  3  4  5  6  7  8  9 10 11 12 13 14 15]\n",
      "Reshaped array :  [[ 0  1  2  3  4  5  6  7]\n",
      " [ 8  9 10 11 12 13 14 15]]\n",
      "Flattened array :  [ 0  1  2  3  4  5  6  7  8  9 10 11 12 13 14 15]\n",
      "Ravelled array :  [ 0  1  2  3  4  5  6  7  8  9 10 11 12 13 14 15]\n",
      "Transposed array :  [[ 0  8]\n",
      " [ 1  9]\n",
      " [ 2 10]\n",
      " [ 3 11]\n",
      " [ 4 12]\n",
      " [ 5 13]\n",
      " [ 6 14]\n",
      " [ 7 15]]\n"
     ]
    }
   ],
   "source": [
    "a=np.arange(16)\n",
    "print(\"Original array : \",a)\n",
    "\n",
    "reshaped=a.reshape((2,8)) # Product of rows and columns given should be equal to number of elements\n",
    "print(\"Reshaped array : \",reshaped)\n",
    "\n",
    "flattened=reshaped.flatten()\n",
    "print(\"Flattened array : \",flattened)\n",
    "\n",
    "raveled=reshaped.ravel()      #Returns a view(whenever possible) , instead of copy like flattened\n",
    "print(\"Ravelled array : \",raveled)\n",
    "\n",
    "transpose=reshaped.T\n",
    "print(\"Transposed array : \",transpose)"
   ]
  },
  {
   "cell_type": "code",
   "execution_count": null,
   "id": "d8e593ef",
   "metadata": {},
   "outputs": [],
   "source": []
  }
 ],
 "metadata": {
  "kernelspec": {
   "display_name": "jupyter_env",
   "language": "python",
   "name": "python3"
  },
  "language_info": {
   "codemirror_mode": {
    "name": "ipython",
    "version": 3
   },
   "file_extension": ".py",
   "mimetype": "text/x-python",
   "name": "python",
   "nbconvert_exporter": "python",
   "pygments_lexer": "ipython3",
   "version": "3.13.2"
  }
 },
 "nbformat": 4,
 "nbformat_minor": 5
}
