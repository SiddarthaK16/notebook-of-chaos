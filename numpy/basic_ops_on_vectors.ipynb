{
 "cells": [
  {
   "cell_type": "code",
   "execution_count": 2,
   "id": "ba888e97",
   "metadata": {},
   "outputs": [],
   "source": [
    "import numpy as np "
   ]
  },
  {
   "cell_type": "code",
   "execution_count": 3,
   "id": "065707d4",
   "metadata": {},
   "outputs": [
    {
     "name": "stdout",
     "output_type": "stream",
     "text": [
      "Sum :  [ 8 10 12 14 16]\n",
      "Multiplication :  [ 7 16 27 40 55]\n",
      "Dot product :  145\n"
     ]
    }
   ],
   "source": [
    "vector1=np.array([1,2,3,4,5])\n",
    "vector2=np.array([7,8,9,10,11])\n",
    "\n",
    "print(\"Sum : \",vector1+vector2)\n",
    "print(\"Multiplication : \",vector1*vector2)\n",
    "print(\"Dot product : \",np.dot(vector1,vector2))"
   ]
  },
  {
   "cell_type": "code",
   "execution_count": null,
   "id": "a391c824",
   "metadata": {},
   "outputs": [],
   "source": []
  }
 ],
 "metadata": {
  "kernelspec": {
   "display_name": "jupyter_env",
   "language": "python",
   "name": "python3"
  },
  "language_info": {
   "codemirror_mode": {
    "name": "ipython",
    "version": 3
   },
   "file_extension": ".py",
   "mimetype": "text/x-python",
   "name": "python",
   "nbconvert_exporter": "python",
   "pygments_lexer": "ipython3",
   "version": "3.13.2"
  }
 },
 "nbformat": 4,
 "nbformat_minor": 5
}
