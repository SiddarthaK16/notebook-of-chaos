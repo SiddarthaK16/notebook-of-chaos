{
 "cells": [
  {
   "cell_type": "markdown",
   "id": "bbf8e342",
   "metadata": {},
   "source": [
    "# OPERATIONS ON ARRAYS"
   ]
  },
  {
   "cell_type": "code",
   "execution_count": 1,
   "id": "e6f332b9",
   "metadata": {},
   "outputs": [],
   "source": [
    "import numpy as np"
   ]
  },
  {
   "cell_type": "markdown",
   "id": "9944bd0d",
   "metadata": {},
   "source": [
    "### SLICING"
   ]
  },
  {
   "cell_type": "code",
   "execution_count": 2,
   "id": "3d8eb8e1",
   "metadata": {},
   "outputs": [
    {
     "name": "stdout",
     "output_type": "stream",
     "text": [
      "Sliced :  [3 4 5 6 7]\n",
      "With step :  [2 4 6 8]\n",
      "Negative indexing :  [5 6 7 8 9]\n"
     ]
    }
   ],
   "source": [
    "a=np.array([1,2,3,4,5,6,7,8,9,10,11,12])\n",
    "print(\"Sliced : \",a[2:7])\n",
    "print(\"With step : \",a[1:9:2])\n",
    "print(\"Negative indexing : \",a[-8:-3])"
   ]
  },
  {
   "cell_type": "code",
   "execution_count": 3,
   "id": "f37bb685",
   "metadata": {},
   "outputs": [
    {
     "name": "stdout",
     "output_type": "stream",
     "text": [
      "Slicing :  6\n",
      "Slicing :  [4 5 6]\n",
      "Slicing :  [3 6 9]\n",
      "Slicing :  [[2]]\n"
     ]
    }
   ],
   "source": [
    "a_2d=np.array([[1,2,3],\n",
    "              [4,5,6],\n",
    "              [7,8,9]])\n",
    "\n",
    "print(\"Slicing : \",a_2d[1,2])  #2nd column 1st row element\n",
    "print(\"Slicing : \",a_2d[1])  #Entire 1st row\n",
    "print(\"Slicing : \",a_2d[:,2]) #Entire 2nd column\n",
    "print(\"Slicing : \",a_2d[0:1,1:2])\n",
    "\n",
    "\n"
   ]
  },
  {
   "cell_type": "markdown",
   "id": "042f4f70",
   "metadata": {},
   "source": [
    "### SORTING"
   ]
  },
  {
   "cell_type": "code",
   "execution_count": 4,
   "id": "d4d5053e",
   "metadata": {},
   "outputs": [
    {
     "name": "stdout",
     "output_type": "stream",
     "text": [
      "Sorted :  [-10000000000            1            2            3            4\n",
      "            4            6           45           65           67\n",
      "           89]\n"
     ]
    }
   ],
   "source": [
    "unsorted=np.array([1,3,2,4,6,4,45,67,89,65,-10000000000])\n",
    "print(\"Sorted : \",np.sort(unsorted))"
   ]
  },
  {
   "cell_type": "code",
   "execution_count": 7,
   "id": "e9e39304",
   "metadata": {},
   "outputs": [
    {
     "name": "stdout",
     "output_type": "stream",
     "text": [
      "Sorted column wise :  [[      0       3       2]\n",
      " [      1      85      87]\n",
      " [      5      99 9554456]]\n",
      "Sorted row wise :  [[      1       2       3]\n",
      " [      5      87      99]\n",
      " [      0      85 9554456]]\n"
     ]
    }
   ],
   "source": [
    "unsorted_2d=np.array([[1,3,2],\n",
    "                      [5,99,87],\n",
    "                      [0,85,9554456]])\n",
    "\n",
    "print(\"Sorted column wise : \",np.sort(unsorted_2d,axis=0))\n",
    "print(\"Sorted row wise : \",np.sort(unsorted_2d,axis=1))\n",
    "\n"
   ]
  },
  {
   "cell_type": "markdown",
   "id": "00542614",
   "metadata": {},
   "source": [
    "### FILTER"
   ]
  },
  {
   "cell_type": "code",
   "execution_count": 13,
   "id": "7b202b85",
   "metadata": {},
   "outputs": [
    {
     "name": "stdout",
     "output_type": "stream",
     "text": [
      "Even numbers are :  [   2    4    6 ... 9994 9996 9998]\n"
     ]
    }
   ],
   "source": [
    "numbers=np.arange(1,10000)\n",
    "even_numbers=numbers[numbers%2==0]\n",
    "print(\"Even numbers are : \",even_numbers)"
   ]
  },
  {
   "cell_type": "markdown",
   "id": "e4234fb9",
   "metadata": {},
   "source": [
    "### FILTER WITH MASK"
   ]
  },
  {
   "cell_type": "code",
   "execution_count": 9,
   "id": "36bdfba1",
   "metadata": {},
   "outputs": [
    {
     "name": "stdout",
     "output_type": "stream",
     "text": [
      "Numbers greater than 9990 are :  [9991 9992 9993 9994 9995 9996 9997 9998 9999]\n"
     ]
    }
   ],
   "source": [
    "mask=numbers>9990\n",
    "print(\"Numbers greater than 9990 are : \",numbers[mask])"
   ]
  },
  {
   "cell_type": "markdown",
   "id": "747b059a",
   "metadata": {},
   "source": [
    "### FANCY INDEXING vs NP WHERE()"
   ]
  },
  {
   "cell_type": "code",
   "execution_count": 14,
   "id": "c4b0cb74",
   "metadata": {},
   "outputs": [
    {
     "name": "stdout",
     "output_type": "stream",
     "text": [
      "By fancy indexing :  [1 3 5]\n",
      "(array([9900, 9901, 9902, 9903, 9904, 9905, 9906, 9907, 9908, 9909, 9910,\n",
      "       9911, 9912, 9913, 9914, 9915, 9916, 9917, 9918, 9919, 9920, 9921,\n",
      "       9922, 9923, 9924, 9925, 9926, 9927, 9928, 9929, 9930, 9931, 9932,\n",
      "       9933, 9934, 9935, 9936, 9937, 9938, 9939, 9940, 9941, 9942, 9943,\n",
      "       9944, 9945, 9946, 9947, 9948, 9949, 9950, 9951, 9952, 9953, 9954,\n",
      "       9955, 9956, 9957, 9958, 9959, 9960, 9961, 9962, 9963, 9964, 9965,\n",
      "       9966, 9967, 9968, 9969, 9970, 9971, 9972, 9973, 9974, 9975, 9976,\n",
      "       9977, 9978, 9979, 9980, 9981, 9982, 9983, 9984, 9985, 9986, 9987,\n",
      "       9988, 9989, 9990, 9991, 9992, 9993, 9994, 9995, 9996, 9997, 9998]),)\n",
      "[9901 9902 9903 9904 9905 9906 9907 9908 9909 9910 9911 9912 9913 9914\n",
      " 9915 9916 9917 9918 9919 9920 9921 9922 9923 9924 9925 9926 9927 9928\n",
      " 9929 9930 9931 9932 9933 9934 9935 9936 9937 9938 9939 9940 9941 9942\n",
      " 9943 9944 9945 9946 9947 9948 9949 9950 9951 9952 9953 9954 9955 9956\n",
      " 9957 9958 9959 9960 9961 9962 9963 9964 9965 9966 9967 9968 9969 9970\n",
      " 9971 9972 9973 9974 9975 9976 9977 9978 9979 9980 9981 9982 9983 9984\n",
      " 9985 9986 9987 9988 9989 9990 9991 9992 9993 9994 9995 9996 9997 9998\n",
      " 9999]\n"
     ]
    }
   ],
   "source": [
    "indices=[0,2,4]\n",
    "print(\"By fancy indexing : \",numbers[indices])\n",
    "\n",
    "where_result=np.where(numbers>9900)\n",
    "print(where_result)\n",
    "print(numbers[where_result])"
   ]
  },
  {
   "cell_type": "code",
   "execution_count": 15,
   "id": "8f697515",
   "metadata": {},
   "outputs": [
    {
     "name": "stdout",
     "output_type": "stream",
     "text": [
      "The array with your condition is :  [1 2 3 ... 0 0 0]\n"
     ]
    }
   ],
   "source": [
    "condition_array=np.where(numbers>9900,numbers*0,numbers*1)  # equivalent to retrun numbers*0 if numbers>9900 else numbers*1\n",
    "print(\"The array with your condition is : \",condition_array)"
   ]
  },
  {
   "cell_type": "code",
   "execution_count": 16,
   "id": "ee064dc5",
   "metadata": {},
   "outputs": [
    {
     "name": "stdout",
     "output_type": "stream",
     "text": [
      "The array with your condition is :  [False False False ...  True  True  True]\n"
     ]
    }
   ],
   "source": [
    "condition_array=np.where(numbers>9900,True,False) \n",
    "print(\"The array with your condition is : \",condition_array)"
   ]
  },
  {
   "cell_type": "markdown",
   "id": "4366c4b2",
   "metadata": {},
   "source": [
    "### ADDING AND REMOVING DATA\n"
   ]
  },
  {
   "cell_type": "code",
   "execution_count": 18,
   "id": "401359f6",
   "metadata": {},
   "outputs": [
    {
     "name": "stdout",
     "output_type": "stream",
     "text": [
      "[1 2 3 6 7 9 2 4 3 5 8 9]\n"
     ]
    }
   ],
   "source": [
    "arr1=np.array([1,2,3,6,7,9])\n",
    "arr2=np.array([2,4,3,5,8,9])\n",
    "combined=np.concatenate((arr1,arr2))\n",
    "print(combined)"
   ]
  },
  {
   "cell_type": "code",
   "execution_count": 20,
   "id": "b10162e0",
   "metadata": {},
   "outputs": [
    {
     "name": "stdout",
     "output_type": "stream",
     "text": [
      "[1 2 5 4 6 7 8 7 6]\n"
     ]
    }
   ],
   "source": [
    "arr=np.array([1,2,5,4,6,7,8,7,6,100201202010201010])\n",
    "new_arr=np.delete(arr,9)  #Deletes element at index 9 of arr\n",
    "print(new_arr)"
   ]
  },
  {
   "cell_type": "markdown",
   "id": "ce1276aa",
   "metadata": {},
   "source": [
    "### ARRAY COMPATABILITY"
   ]
  },
  {
   "cell_type": "code",
   "execution_count": 21,
   "id": "55220a4b",
   "metadata": {},
   "outputs": [
    {
     "name": "stdout",
     "output_type": "stream",
     "text": [
      "Cmpatibilty shapes :  True\n"
     ]
    }
   ],
   "source": [
    "a=np.array([1,2,3])\n",
    "b=np.array([4,5,6])\n",
    "c=np.array([7,8,9])\n",
    "\n",
    "print(\"Cmpatibilty shapes : \",a.shape==b.shape)\n"
   ]
  },
  {
   "cell_type": "code",
   "execution_count": 22,
   "id": "ccd0a3da",
   "metadata": {},
   "outputs": [
    {
     "name": "stdout",
     "output_type": "stream",
     "text": [
      "[[1 2]\n",
      " [3 4]\n",
      " [5 6]]\n",
      "[[1 2 7]\n",
      " [3 4 8]]\n"
     ]
    }
   ],
   "source": [
    "arr=np.array([[1,2],\n",
    "              [3,4]])\n",
    "new_row=np.array([5,6])\n",
    "\n",
    "with_new_row=np.vstack((arr,new_row))\n",
    "\n",
    "new_column=np.array([[7],[8]])  #Same dimension as on whom you are staking..\n",
    "\n",
    "with_new_column=np.hstack((arr,new_column))\n",
    "\n",
    "print(with_new_row)\n",
    "print(with_new_column)"
   ]
  },
  {
   "cell_type": "code",
   "execution_count": null,
   "id": "a010c81b",
   "metadata": {},
   "outputs": [],
   "source": []
  }
 ],
 "metadata": {
  "kernelspec": {
   "display_name": "jupyter_env",
   "language": "python",
   "name": "python3"
  },
  "language_info": {
   "codemirror_mode": {
    "name": "ipython",
    "version": 3
   },
   "file_extension": ".py",
   "mimetype": "text/x-python",
   "name": "python",
   "nbconvert_exporter": "python",
   "pygments_lexer": "ipython3",
   "version": "3.13.2"
  }
 },
 "nbformat": 4,
 "nbformat_minor": 5
}
