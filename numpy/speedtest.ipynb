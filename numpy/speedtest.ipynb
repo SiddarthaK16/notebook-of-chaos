{
 "cells": [
  {
   "cell_type": "code",
   "execution_count": 2,
   "id": "9cc27613-9d39-4599-ab0f-cac3f9bac5cc",
   "metadata": {},
   "outputs": [],
   "source": [
    "import numpy as np\n",
    "import time"
   ]
  },
  {
   "cell_type": "code",
   "execution_count": 6,
   "id": "cf55f622-37fb-4035-87ae-9c154e58c6cf",
   "metadata": {},
   "outputs": [
    {
     "name": "stderr",
     "output_type": "stream",
     "text": [
      "IOPub data rate exceeded.\n",
      "The Jupyter server will temporarily stop sending output\n",
      "to the client in order to avoid crashing it.\n",
      "To change this limit, set the config variable\n",
      "`--ServerApp.iopub_data_rate_limit`.\n",
      "\n",
      "Current values:\n",
      "ServerApp.iopub_data_rate_limit=1000000.0 (bytes/sec)\n",
      "ServerApp.rate_limit_window=3.0 (secs)\n",
      "\n"
     ]
    }
   ],
   "source": [
    "# PYTHON\n",
    "\n",
    "size=1_000_092\n",
    "\n",
    "l1=list(range(size))\n",
    "l2=list(range(size))\n",
    "\n",
    "start=time.time()\n",
    "add = [x+y for x,y in zip(l1,l2)]\n",
    "end=time.time()\n",
    "\n",
    "print(add)\n",
    "print(\"Time taken by python is : \",end-start)"
   ]
  },
  {
   "cell_type": "code",
   "execution_count": 7,
   "id": "f1e49613-b9bc-4282-b4b4-5e3f339b3915",
   "metadata": {},
   "outputs": [
    {
     "name": "stdout",
     "output_type": "stream",
     "text": [
      "[      0       2       4 ... 2000178 2000180 2000182]\n",
      "Time taken by numpy is :  0.0223543643951416\n"
     ]
    }
   ],
   "source": [
    "# NUMPY\n",
    "\n",
    "size=1_000_092\n",
    "\n",
    "array1=np.array(l1)\n",
    "array2=np.array(l2)\n",
    "\n",
    "start=time.time()\n",
    "add=array1+array2  \n",
    "end=time.time()\n",
    "\n",
    "print(add)\n",
    "print(\"Time taken by numpy is : \",end-start)"
   ]
  },
  {
   "cell_type": "markdown",
   "id": "a0d1fd39-8971-4737-9d34-312eee1133d8",
   "metadata": {},
   "source": [
    "# CREATING ARRAYS"
   ]
  },
  {
   "cell_type": "code",
   "execution_count": 8,
   "id": "73692ade-5a7b-456d-a23b-49ba48bd9c4e",
   "metadata": {},
   "outputs": [
    {
     "name": "stdout",
     "output_type": "stream",
     "text": [
      "[1 2 3 4 5]\n",
      "[[1 2 3]\n",
      " [4 5 6]]\n",
      "Type: <class 'numpy.ndarray'>\n",
      "Shape: (2, 3)\n"
     ]
    }
   ],
   "source": [
    "import numpy as np\n",
    "\n",
    "# Creating a 1D NumPy array\n",
    "arr1 = np.array([1, 2, 3, 4, 5])\n",
    "print(arr1)\n",
    "\n",
    "# Creating a 2D NumPy array\n",
    "arr2 = np.array([[1, 2, 3], [4, 5, 6]])\n",
    "print(arr2)\n",
    "\n",
    "# Checking type and shape\n",
    "print(\"Type:\", type(arr1))\n",
    "print(\"Shape:\", arr2.shape)"
   ]
  },
  {
   "cell_type": "code",
   "execution_count": 9,
   "id": "ccd589b9-d2a9-496d-973b-a11f170839da",
   "metadata": {},
   "outputs": [],
   "source": [
    "#  NumPy stores data in a contiguous memory block, making access faster than lists.🔹 shape shows the dimensions of an array."
   ]
  },
  {
   "cell_type": "markdown",
   "id": "9e0b5d82-dfc6-42f0-9ae3-e8cc03acb49b",
   "metadata": {},
   "source": [
    "# Memory Efficiency – NumPy vs. Lists"
   ]
  },
  {
   "cell_type": "code",
   "execution_count": 10,
   "id": "ea9790e3-25ca-4af2-9eb6-4e891a975917",
   "metadata": {},
   "outputs": [
    {
     "name": "stdout",
     "output_type": "stream",
     "text": [
      "Python list size: 8056000 bytes\n",
      "NumPy array size: 8000 bytes\n"
     ]
    }
   ],
   "source": [
    "import sys\n",
    "\n",
    "list_data = list(range(1000))\n",
    "numpy_data = np.array(list_data)\n",
    "\n",
    "print(\"Python list size:\", sys.getsizeof(list_data) * len(list_data), \"bytes\")\n",
    "print(\"NumPy array size:\", numpy_data.nbytes, \"bytes\")"
   ]
  },
  {
   "cell_type": "markdown",
   "id": "ad7c8c1c-f14c-4d08-9218-ce64ee95943f",
   "metadata": {},
   "source": [
    "# Vectorization – No More Loops!"
   ]
  },
  {
   "cell_type": "code",
   "execution_count": 12,
   "id": "eda998be-754a-4ef6-a74c-8533c00d520d",
   "metadata": {},
   "outputs": [],
   "source": [
    "# Python list (loop-based)\n",
    "list_squares = [x ** 2 for x in l1]\n",
    "\n",
    "# NumPy (vectorized)\n",
    "numpy_squares = arr1 ** 2"
   ]
  },
  {
   "cell_type": "code",
   "execution_count": null,
   "id": "2a0f37e9-52f3-4f23-bc79-81ffb67cacff",
   "metadata": {},
   "outputs": [],
   "source": []
  }
 ],
 "metadata": {
  "kernelspec": {
   "display_name": "Python 3 (ipykernel)",
   "language": "python",
   "name": "python3"
  },
  "language_info": {
   "codemirror_mode": {
    "name": "ipython",
    "version": 3
   },
   "file_extension": ".py",
   "mimetype": "text/x-python",
   "name": "python",
   "nbconvert_exporter": "python",
   "pygments_lexer": "ipython3",
   "version": "3.13.5"
  }
 },
 "nbformat": 4,
 "nbformat_minor": 5
}
