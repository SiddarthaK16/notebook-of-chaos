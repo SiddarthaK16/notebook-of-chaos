{
 "cells": [
  {
   "cell_type": "code",
   "execution_count": 1,
   "id": "74506473",
   "metadata": {},
   "outputs": [],
   "source": [
    "import numpy as np"
   ]
  },
  {
   "cell_type": "code",
   "execution_count": 2,
   "id": "00b44abd",
   "metadata": {},
   "outputs": [],
   "source": [
    "sales = np.array([\n",
    "    [120, 135, 150, 160, 145, 155, 170],  # Product A\n",
    "    [80, 90, 85, 88, 92, 95, 100],        # Product B\n",
    "    [60, 65, 70, 75, 68, 72, 74],         # Product C\n",
    "    [200, 210, 190, 205, 198, 215, 220],  # Product D\n",
    "    [50, 55, 45, 60, 52, 58, 65],         # Product E\n",
    "    [130, 140, 135, 145, 150, 155, 160]   # Product F\n",
    "])"
   ]
  },
  {
   "cell_type": "markdown",
   "id": "7d3fbff8",
   "metadata": {},
   "source": [
    "### AVERAGE PER PRODUCT"
   ]
  },
  {
   "cell_type": "code",
   "execution_count": null,
   "id": "8806afe6",
   "metadata": {},
   "outputs": [
    {
     "name": "stdout",
     "output_type": "stream",
     "text": [
      "Average per product is :  [147.85714286  90.          69.14285714 205.42857143  55.\n",
      " 145.        ]\n"
     ]
    }
   ],
   "source": [
    "print(\"Average per product is : \",np.mean(sales,axis=1))"
   ]
  },
  {
   "cell_type": "markdown",
   "id": "275b172a",
   "metadata": {},
   "source": [
    "### TOTAL SALES PER DAY"
   ]
  },
  {
   "cell_type": "code",
   "execution_count": 4,
   "id": "32ea4ac7",
   "metadata": {},
   "outputs": [
    {
     "name": "stdout",
     "output_type": "stream",
     "text": [
      "Total sale per day are :  [640 695 675 733 705 750 789]\n"
     ]
    }
   ],
   "source": [
    "print(\"Total sale per day are : \",np.sum(sales,axis=0))"
   ]
  },
  {
   "cell_type": "markdown",
   "id": "8ef931ad",
   "metadata": {},
   "source": [
    "### PRODUCT WITH HIGHEST WEEKLY SALES"
   ]
  },
  {
   "cell_type": "code",
   "execution_count": 6,
   "id": "9b09292a",
   "metadata": {},
   "outputs": [
    {
     "name": "stdout",
     "output_type": "stream",
     "text": [
      "The product 4 has highest weekly sale which is 1438\n"
     ]
    }
   ],
   "source": [
    "total=np.sum(sales,axis=1)\n",
    "product_max=np.argmax(total)\n",
    "print(f\"The product {product_max+1} has highest weekly sale which is {total[product_max]}\")"
   ]
  },
  {
   "cell_type": "markdown",
   "id": "3b3e0236",
   "metadata": {},
   "source": [
    "### LOWEST TOTAL SALE"
   ]
  },
  {
   "cell_type": "code",
   "execution_count": 8,
   "id": "e9e47807",
   "metadata": {},
   "outputs": [
    {
     "name": "stdout",
     "output_type": "stream",
     "text": [
      "The day with lowest sales is day 3 of product 5 which is 45\n"
     ]
    }
   ],
   "source": [
    "\n",
    "lowest = np.min(sales)\n",
    "row, col = np.where(sales == lowest)  # returns arrays\n",
    "print(f\"The day with lowest sales is day {col[0]+1} of product {row[0]+1} which is {lowest}\")\n"
   ]
  },
  {
   "cell_type": "markdown",
   "id": "473d2aab",
   "metadata": {},
   "source": [
    "### PRODUCT WITH MOST CONSISTENT SALES"
   ]
  },
  {
   "cell_type": "code",
   "execution_count": 10,
   "id": "a7b10506",
   "metadata": {},
   "outputs": [
    {
     "name": "stdout",
     "output_type": "stream",
     "text": [
      "The product 3 was most consistent in sales\n"
     ]
    }
   ],
   "source": [
    "deviation=np.std(sales,axis=1)\n",
    "most_consistent=np.argmin(deviation)\n",
    "\n",
    "print(f\"The product {most_consistent+1} was most consistent in sales\")\n"
   ]
  },
  {
   "cell_type": "markdown",
   "id": "1ebeb994",
   "metadata": {},
   "source": [
    "### how many products had any day with sales >200."
   ]
  },
  {
   "cell_type": "code",
   "execution_count": 11,
   "id": "fb48dfc4",
   "metadata": {},
   "outputs": [
    {
     "name": "stdout",
     "output_type": "stream",
     "text": [
      "1\n"
     ]
    }
   ],
   "source": [
    "sales=np.any(sales>200,axis=1)\n",
    "count=np.sum(sales)\n",
    "\n",
    "print(count)"
   ]
  },
  {
   "cell_type": "markdown",
   "id": "9fa4846e",
   "metadata": {},
   "source": [
    "### NORMALISE SALES PER PRODUCT"
   ]
  },
  {
   "cell_type": "code",
   "execution_count": 19,
   "id": "157ebf2a",
   "metadata": {},
   "outputs": [
    {
     "name": "stdout",
     "output_type": "stream",
     "text": [
      "[[0.42857143 0.51428571 0.6        0.65714286 0.57142857 0.62857143\n",
      "  0.71428571]\n",
      " [0.2        0.25714286 0.22857143 0.24571429 0.26857143 0.28571429\n",
      "  0.31428571]\n",
      " [0.08571429 0.11428571 0.14285714 0.17142857 0.13142857 0.15428571\n",
      "  0.16571429]\n",
      " [0.88571429 0.94285714 0.82857143 0.91428571 0.87428571 0.97142857\n",
      "  1.        ]\n",
      " [0.02857143 0.05714286 0.         0.08571429 0.04       0.07428571\n",
      "  0.11428571]\n",
      " [0.48571429 0.54285714 0.51428571 0.57142857 0.6        0.62857143\n",
      "  0.65714286]]\n"
     ]
    }
   ],
   "source": [
    "sales_max = np.max(sales)\n",
    "sales_min = np.min(sales)\n",
    "\n",
    "normal_sales = (sales - sales_min) / (sales_max - sales_min)\n",
    "print(normal_sales)\n"
   ]
  },
  {
   "cell_type": "markdown",
   "id": "3fb98b2f",
   "metadata": {},
   "source": [
    "### OVERALL SALES OF THE WEEK"
   ]
  },
  {
   "cell_type": "code",
   "execution_count": 20,
   "id": "206ecd5d",
   "metadata": {},
   "outputs": [
    {
     "name": "stdout",
     "output_type": "stream",
     "text": [
      "[1035  630  484 1438  385 1015]\n"
     ]
    }
   ],
   "source": [
    "overall_sales_week=np.sum(sales,axis=1)\n",
    "print(overall_sales_week)"
   ]
  },
  {
   "cell_type": "markdown",
   "id": "0763638c",
   "metadata": {},
   "source": [
    "### MAXIMUM SALE"
   ]
  },
  {
   "cell_type": "code",
   "execution_count": 23,
   "id": "b4cfa94c",
   "metadata": {},
   "outputs": [
    {
     "name": "stdout",
     "output_type": "stream",
     "text": [
      "The product 4 has maximum sale on day 7 which is 220\n"
     ]
    }
   ],
   "source": [
    "max_sale = np.max(sales)\n",
    "rows, columns = np.where(sales == max_sale)\n",
    "\n",
    "print(f\"The product {rows[0]+1} has maximum sale on day {columns[0]+1} which is {max_sale}\")\n"
   ]
  },
  {
   "cell_type": "markdown",
   "id": "b460ddd0",
   "metadata": {},
   "source": [
    "### SORT DAYWISE FOR EACH PRODUCT"
   ]
  },
  {
   "cell_type": "code",
   "execution_count": 3,
   "id": "7afefbab",
   "metadata": {},
   "outputs": [
    {
     "name": "stdout",
     "output_type": "stream",
     "text": [
      "[[120 135 145 150 155 160 170]\n",
      " [ 80  85  88  90  92  95 100]\n",
      " [ 60  65  68  70  72  74  75]\n",
      " [190 198 200 205 210 215 220]\n",
      " [ 45  50  52  55  58  60  65]\n",
      " [130 135 140 145 150 155 160]]\n"
     ]
    }
   ],
   "source": [
    "sorted=np.sort(sales,axis=1)\n",
    "print(sorted)"
   ]
  },
  {
   "cell_type": "code",
   "execution_count": null,
   "id": "75e08d31",
   "metadata": {},
   "outputs": [],
   "source": []
  }
 ],
 "metadata": {
  "kernelspec": {
   "display_name": "jupyter_env",
   "language": "python",
   "name": "python3"
  },
  "language_info": {
   "codemirror_mode": {
    "name": "ipython",
    "version": 3
   },
   "file_extension": ".py",
   "mimetype": "text/x-python",
   "name": "python",
   "nbconvert_exporter": "python",
   "pygments_lexer": "ipython3",
   "version": "3.13.2"
  }
 },
 "nbformat": 4,
 "nbformat_minor": 5
}
