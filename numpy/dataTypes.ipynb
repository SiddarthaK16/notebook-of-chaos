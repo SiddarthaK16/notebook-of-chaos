{
 "cells": [
  {
   "cell_type": "code",
   "execution_count": 1,
   "id": "95f6f8c4-351c-487f-9d71-8976cbd7c8c0",
   "metadata": {},
   "outputs": [],
   "source": [
    "import numpy as np"
   ]
  },
  {
   "cell_type": "code",
   "execution_count": 4,
   "id": "eea0673b-146f-4cce-8425-7344ca3dd1f7",
   "metadata": {},
   "outputs": [
    {
     "name": "stdout",
     "output_type": "stream",
     "text": [
      "float64\n",
      "[1 2 3]\n",
      "int32\n"
     ]
    }
   ],
   "source": [
    "arr = np.array([1.5, 2.7, 3.9])\n",
    "print(arr.dtype)  # Output: float64\n",
    "\n",
    "arr_int = arr.astype(\"int32\")  # Converting float to int\n",
    "print(arr_int)    # Output: [1 2 3]\n",
    "print(arr_int.dtype)  # Output: int32"
   ]
  },
  {
   "cell_type": "code",
   "execution_count": 5,
   "id": "b84ae67d-96ce-46da-a413-d1a1d19c8abd",
   "metadata": {},
   "outputs": [
    {
     "name": "stdout",
     "output_type": "stream",
     "text": [
      "[1000000 2000000 3000000]\n",
      "int32\n"
     ]
    }
   ],
   "source": [
    "arr_large = np.array([1000000, 2000000, 3000000], dtype=np.int64)\n",
    "arr_small = arr_large.astype(\"int32\")  # Downcasting to a smaller dtype\n",
    "print(arr_small)  # Output: [1000000 2000000 3000000]\n",
    "print(arr_small.dtype)  # Output: int32"
   ]
  },
  {
   "cell_type": "code",
   "execution_count": 6,
   "id": "e618af9e-8498-4da3-9b1a-817e5624856c",
   "metadata": {},
   "outputs": [
    {
     "name": "stdout",
     "output_type": "stream",
     "text": [
      "24\n",
      "12\n"
     ]
    }
   ],
   "source": [
    "arr_int64 = np.array([1, 2, 3], dtype=np.int64)\n",
    "arr_int32 = np.array([1, 2, 3], dtype=np.int32)\n",
    "\n",
    "print(arr_int64.nbytes)  # Output: 24 bytes (3 elements * 8 bytes each)\n",
    "print(arr_int32.nbytes)  # Output: 12 bytes (3 elements * 4 bytes each)"
   ]
  },
  {
   "cell_type": "code",
   "execution_count": 10,
   "id": "484f31a4-5f66-46fc-8a13-a1cb20c809ba",
   "metadata": {},
   "outputs": [
    {
     "name": "stdout",
     "output_type": "stream",
     "text": [
      "['apple' 'banana' 'cherry']\n"
     ]
    }
   ],
   "source": [
    "arr = np.array(['apple', 'banana', 'cherry'], dtype='str')  # Unicode string array or dtype='U'\n",
    "print(arr)"
   ]
  },
  {
   "cell_type": "code",
   "execution_count": 11,
   "id": "65f17736-5594-474a-99cc-e16eeb6dec8b",
   "metadata": {},
   "outputs": [
    {
     "name": "stdout",
     "output_type": "stream",
     "text": [
      "[1.+2.j 3.+4.j 5.+6.j]\n"
     ]
    }
   ],
   "source": [
    "arr = np.array([1 + 2j, 3 + 4j, 5 + 6j], dtype='complex128')  #and complex64 exist\n",
    "print(arr)"
   ]
  },
  {
   "cell_type": "code",
   "execution_count": 12,
   "id": "0e36eabf-864c-4dfe-8dc1-4d4dbff4f064",
   "metadata": {},
   "outputs": [
    {
     "name": "stdout",
     "output_type": "stream",
     "text": [
      "[{'a': 1} list([1, 2, 3]) 'hello']\n"
     ]
    }
   ],
   "source": [
    "arr = np.array([{'a': 1}, [1, 2, 3], 'hello'], dtype=object)\n",
    "print(arr)"
   ]
  },
  {
   "cell_type": "code",
   "execution_count": null,
   "id": "2e071cf0-89e7-4797-a30d-5467aee71406",
   "metadata": {},
   "outputs": [],
   "source": []
  }
 ],
 "metadata": {
  "kernelspec": {
   "display_name": "Python 3 (ipykernel)",
   "language": "python",
   "name": "python3"
  },
  "language_info": {
   "codemirror_mode": {
    "name": "ipython",
    "version": 3
   },
   "file_extension": ".py",
   "mimetype": "text/x-python",
   "name": "python",
   "nbconvert_exporter": "python",
   "pygments_lexer": "ipython3",
   "version": "3.13.5"
  }
 },
 "nbformat": 4,
 "nbformat_minor": 5
}
