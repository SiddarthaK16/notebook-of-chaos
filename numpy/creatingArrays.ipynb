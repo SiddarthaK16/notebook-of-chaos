{
 "cells": [
  {
   "cell_type": "markdown",
   "id": "169d88c9-f511-4d5f-807a-0265303cd71d",
   "metadata": {},
   "source": [
    "# Creating Arrays from Scratch:"
   ]
  },
  {
   "cell_type": "code",
   "execution_count": 1,
   "id": "1f0bb9bd-2383-40fd-b732-89b59383073d",
   "metadata": {},
   "outputs": [],
   "source": [
    "import numpy as np"
   ]
  },
  {
   "cell_type": "code",
   "execution_count": 3,
   "id": "7c032589-74a2-4b88-9009-798bff528e3f",
   "metadata": {},
   "outputs": [
    {
     "name": "stdout",
     "output_type": "stream",
     "text": [
      "[[0. 0. 0. 0. 0. 0. 0. 0. 0. 0. 0. 0. 0. 0. 0. 0. 0. 0. 0. 0. 0. 0. 0. 0.\n",
      "  0. 0. 0. 0. 0. 0. 0. 0. 0. 0.]\n",
      " [0. 0. 0. 0. 0. 0. 0. 0. 0. 0. 0. 0. 0. 0. 0. 0. 0. 0. 0. 0. 0. 0. 0. 0.\n",
      "  0. 0. 0. 0. 0. 0. 0. 0. 0. 0.]\n",
      " [0. 0. 0. 0. 0. 0. 0. 0. 0. 0. 0. 0. 0. 0. 0. 0. 0. 0. 0. 0. 0. 0. 0. 0.\n",
      "  0. 0. 0. 0. 0. 0. 0. 0. 0. 0.]\n",
      " [0. 0. 0. 0. 0. 0. 0. 0. 0. 0. 0. 0. 0. 0. 0. 0. 0. 0. 0. 0. 0. 0. 0. 0.\n",
      "  0. 0. 0. 0. 0. 0. 0. 0. 0. 0.]\n",
      " [0. 0. 0. 0. 0. 0. 0. 0. 0. 0. 0. 0. 0. 0. 0. 0. 0. 0. 0. 0. 0. 0. 0. 0.\n",
      "  0. 0. 0. 0. 0. 0. 0. 0. 0. 0.]\n",
      " [0. 0. 0. 0. 0. 0. 0. 0. 0. 0. 0. 0. 0. 0. 0. 0. 0. 0. 0. 0. 0. 0. 0. 0.\n",
      "  0. 0. 0. 0. 0. 0. 0. 0. 0. 0.]\n",
      " [0. 0. 0. 0. 0. 0. 0. 0. 0. 0. 0. 0. 0. 0. 0. 0. 0. 0. 0. 0. 0. 0. 0. 0.\n",
      "  0. 0. 0. 0. 0. 0. 0. 0. 0. 0.]\n",
      " [0. 0. 0. 0. 0. 0. 0. 0. 0. 0. 0. 0. 0. 0. 0. 0. 0. 0. 0. 0. 0. 0. 0. 0.\n",
      "  0. 0. 0. 0. 0. 0. 0. 0. 0. 0.]\n",
      " [0. 0. 0. 0. 0. 0. 0. 0. 0. 0. 0. 0. 0. 0. 0. 0. 0. 0. 0. 0. 0. 0. 0. 0.\n",
      "  0. 0. 0. 0. 0. 0. 0. 0. 0. 0.]\n",
      " [0. 0. 0. 0. 0. 0. 0. 0. 0. 0. 0. 0. 0. 0. 0. 0. 0. 0. 0. 0. 0. 0. 0. 0.\n",
      "  0. 0. 0. 0. 0. 0. 0. 0. 0. 0.]\n",
      " [0. 0. 0. 0. 0. 0. 0. 0. 0. 0. 0. 0. 0. 0. 0. 0. 0. 0. 0. 0. 0. 0. 0. 0.\n",
      "  0. 0. 0. 0. 0. 0. 0. 0. 0. 0.]\n",
      " [0. 0. 0. 0. 0. 0. 0. 0. 0. 0. 0. 0. 0. 0. 0. 0. 0. 0. 0. 0. 0. 0. 0. 0.\n",
      "  0. 0. 0. 0. 0. 0. 0. 0. 0. 0.]]\n"
     ]
    }
   ],
   "source": [
    "arr1=np.zeros((12,34))   #  12x34 array of zeros\n",
    "print(arr1)"
   ]
  },
  {
   "cell_type": "code",
   "execution_count": 4,
   "id": "9d2b71d1-64e5-4d45-b009-85fc615a4c3d",
   "metadata": {},
   "outputs": [
    {
     "name": "stdout",
     "output_type": "stream",
     "text": [
      "[[1. 1. 1. 1. 1.]\n",
      " [1. 1. 1. 1. 1.]\n",
      " [1. 1. 1. 1. 1.]]\n"
     ]
    }
   ],
   "source": [
    "arr2=np.ones((3,5)) # 3x5 array of ones\n",
    "print(arr2)"
   ]
  },
  {
   "cell_type": "code",
   "execution_count": 5,
   "id": "239312b0-3a2a-4c92-811f-91a94843a89d",
   "metadata": {},
   "outputs": [
    {
     "name": "stdout",
     "output_type": "stream",
     "text": [
      "[[10 10 10]\n",
      " [10 10 10]\n",
      " [10 10 10]]\n"
     ]
    }
   ],
   "source": [
    "arr3=np.full((3,3),10)  # 3x3 array filled with 10\n",
    "print (arr3)"
   ]
  },
  {
   "cell_type": "code",
   "execution_count": 7,
   "id": "3c1b1bbc-e5c5-4754-9c28-1b79311382e5",
   "metadata": {},
   "outputs": [
    {
     "name": "stdout",
     "output_type": "stream",
     "text": [
      "[[1. 0. 0. 0. 0.]\n",
      " [0. 1. 0. 0. 0.]\n",
      " [0. 0. 1. 0. 0.]\n",
      " [0. 0. 0. 1. 0.]\n",
      " [0. 0. 0. 0. 1.]]\n"
     ]
    }
   ],
   "source": [
    "arr4=np.eye(5)  #  5x5 identity matrix\n",
    "print(arr4)"
   ]
  },
  {
   "cell_type": "code",
   "execution_count": 9,
   "id": "d9d93ca1-cb09-4a72-bd3f-3702874456a7",
   "metadata": {},
   "outputs": [
    {
     "name": "stdout",
     "output_type": "stream",
     "text": [
      "[ 4  6  8 10 12 14 16 18 20 22 24 26 28 30 32 34 36 38 40 42 44]\n"
     ]
    }
   ],
   "source": [
    "arr5=np.arange(4,45,2)   # (like range) (start,stop,jump)\n",
    "print(arr5)"
   ]
  },
  {
   "cell_type": "code",
   "execution_count": null,
   "id": "ca98801f-89f5-44db-8ea9-fd4d9ad3c0dc",
   "metadata": {},
   "outputs": [],
   "source": [
    "arr6=np.linspace(0, 12, 5) # 5 elements from 0 to 12 equally spaces\n",
    "print(arr6)"
   ]
  },
  {
   "cell_type": "markdown",
   "id": "f6078dd2-f7ae-4738-968d-6d3fab3b2b83",
   "metadata": {},
   "source": [
    "# Checking Array Properties"
   ]
  },
  {
   "cell_type": "code",
   "execution_count": 11,
   "id": "930cb0b6-abbc-4c1c-a45d-6eab1daa5157",
   "metadata": {},
   "outputs": [
    {
     "name": "stdout",
     "output_type": "stream",
     "text": [
      "[[1 2 3]\n",
      " [4 5 6]\n",
      " [7 8 9]]\n"
     ]
    }
   ],
   "source": [
    "myarr=np.array([[1,2,3],[4,5,6],[7,8,9]])\n",
    "print(myarr)"
   ]
  },
  {
   "cell_type": "code",
   "execution_count": 13,
   "id": "13ea8f2c-9dfb-41d0-974f-c66067ed68f9",
   "metadata": {},
   "outputs": [
    {
     "name": "stdout",
     "output_type": "stream",
     "text": [
      "(3, 3)\n",
      "9\n",
      "2\n",
      "int64\n"
     ]
    }
   ],
   "source": [
    "print(myarr.shape)  # (rows,columns)\n",
    "\n",
    "print(myarr.size)  # No. of elements\n",
    "\n",
    "print(myarr.ndim)  # Dimensions\n",
    "\n",
    "print(myarr.dtype)   #data type\n",
    " "
   ]
  },
  {
   "cell_type": "code",
   "execution_count": 20,
   "id": "4f0ff7de-350a-44a6-bf62-c0fd71c4e8a5",
   "metadata": {},
   "outputs": [
    {
     "name": "stdout",
     "output_type": "stream",
     "text": [
      "float16\n"
     ]
    }
   ],
   "source": [
    "myarr=np.array([[1,2,3],[4,5,6],[7,8,9]],dtype='float16')   # Explicitly\n",
    "print(myarr.dtype)  "
   ]
  },
  {
   "cell_type": "code",
   "execution_count": 22,
   "id": "5123daef-91a4-4771-95e8-49289b6a5268",
   "metadata": {},
   "outputs": [
    {
     "name": "stdout",
     "output_type": "stream",
     "text": [
      "int32\n"
     ]
    }
   ],
   "source": [
    "int_arr=myarr.astype('int32')   # Converting float to int\n",
    "print(int_arr.dtype)"
   ]
  },
  {
   "cell_type": "markdown",
   "id": "879b592f-98e6-468d-8f77-0e771e29d07f",
   "metadata": {},
   "source": [
    "# Reshaping and Flattening Arrays"
   ]
  },
  {
   "cell_type": "code",
   "execution_count": 23,
   "id": "4410c898-e912-490b-980d-63b4bc7eb96a",
   "metadata": {},
   "outputs": [
    {
     "name": "stdout",
     "output_type": "stream",
     "text": [
      "(3, 3)\n"
     ]
    }
   ],
   "source": [
    "mylife=np.array([[1,2,3],[7,8,9],[1,4,6]])\n",
    "print(mylife.shape)"
   ]
  },
  {
   "cell_type": "code",
   "execution_count": 25,
   "id": "b8580dc0-00c8-4498-8508-86cfcbe951bd",
   "metadata": {},
   "outputs": [
    {
     "name": "stdout",
     "output_type": "stream",
     "text": [
      "[[1]\n",
      " [2]\n",
      " [3]\n",
      " [7]\n",
      " [8]\n",
      " [9]\n",
      " [1]\n",
      " [4]\n",
      " [6]]\n",
      "(9, 1)\n"
     ]
    }
   ],
   "source": [
    "reshaped=mylife.reshape(9,1)\n",
    "print(reshaped)     #rows * columns * (other dims if any) must stay the same before and after reshaping.\n",
    "print(reshaped.shape)"
   ]
  },
  {
   "cell_type": "code",
   "execution_count": 26,
   "id": "9448df54-7013-4049-b082-67821e4d3912",
   "metadata": {},
   "outputs": [
    {
     "name": "stdout",
     "output_type": "stream",
     "text": [
      "[1 2 3 7 8 9 1 4 6]\n",
      "(9,)\n"
     ]
    }
   ],
   "source": [
    "flattened=mylife.flatten()\n",
    "print(flattened)\n",
    "print(flattened.shape)"
   ]
  },
  {
   "cell_type": "code",
   "execution_count": 30,
   "id": "6f538a29-372d-49a8-a2aa-81d04d51f28c",
   "metadata": {},
   "outputs": [
    {
     "name": "stdout",
     "output_type": "stream",
     "text": [
      "[[1 7 1]\n",
      " [2 8 4]\n",
      " [3 9 6]]\n"
     ]
    }
   ],
   "source": [
    "transpose=mylife.T  # Gives transpose\n",
    "print(transpose)"
   ]
  },
  {
   "cell_type": "code",
   "execution_count": null,
   "id": "3849069e-de37-4359-85d8-fcd83b7dcf10",
   "metadata": {},
   "outputs": [],
   "source": []
  }
 ],
 "metadata": {
  "kernelspec": {
   "display_name": "Python 3 (ipykernel)",
   "language": "python",
   "name": "python3"
  },
  "language_info": {
   "codemirror_mode": {
    "name": "ipython",
    "version": 3
   },
   "file_extension": ".py",
   "mimetype": "text/x-python",
   "name": "python",
   "nbconvert_exporter": "python",
   "pygments_lexer": "ipython3",
   "version": "3.13.5"
  }
 },
 "nbformat": 4,
 "nbformat_minor": 5
}
