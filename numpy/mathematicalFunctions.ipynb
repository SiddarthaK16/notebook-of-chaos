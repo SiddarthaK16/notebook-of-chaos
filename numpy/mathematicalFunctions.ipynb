{
 "cells": [
  {
   "cell_type": "code",
   "execution_count": 1,
   "id": "fe8b2145-f594-4bce-8599-087a375d29b8",
   "metadata": {},
   "outputs": [],
   "source": [
    "import numpy as np"
   ]
  },
  {
   "cell_type": "code",
   "execution_count": 2,
   "id": "0a4655df-ef15-465d-8f2c-8bdc61c9b9d2",
   "metadata": {},
   "outputs": [],
   "source": [
    "arr=np.array([1,3,4,2,5,5,4])  #[1,2,3,4,4,5,5]"
   ]
  },
  {
   "cell_type": "code",
   "execution_count": 4,
   "id": "c3a238bc-9a48-45ae-978f-783f18e76d6c",
   "metadata": {},
   "outputs": [
    {
     "name": "stdout",
     "output_type": "stream",
     "text": [
      "3.4285714285714284\n"
     ]
    }
   ],
   "source": [
    "print(np.mean(arr))  #Compute the mean (average) of an array."
   ]
  },
  {
   "cell_type": "code",
   "execution_count": 5,
   "id": "fef05141-1df5-48f1-9dc0-3512ffd94600",
   "metadata": {},
   "outputs": [
    {
     "name": "stdout",
     "output_type": "stream",
     "text": [
      "1.3997084244475304\n"
     ]
    }
   ],
   "source": [
    "print(np.std(arr)) #Compute the standard deviation of an array."
   ]
  },
  {
   "cell_type": "code",
   "execution_count": 7,
   "id": "cfe0c5d1-84d1-4915-822f-8919f206def0",
   "metadata": {},
   "outputs": [
    {
     "name": "stdout",
     "output_type": "stream",
     "text": [
      "5\n",
      "1\n"
     ]
    }
   ],
   "source": [
    "print(np.max(arr)) #Compute the maximum value of an array.\n",
    "print(np.min(arr)) #Compute the minimum value of an array."
   ]
  },
  {
   "cell_type": "code",
   "execution_count": 8,
   "id": "0b8df4c1-428a-4f49-b48d-a3857341ce39",
   "metadata": {},
   "outputs": [
    {
     "name": "stdout",
     "output_type": "stream",
     "text": [
      "1.959183673469388\n"
     ]
    }
   ],
   "source": [
    "print(np.var(arr)) #Compute the variance of an array."
   ]
  },
  {
   "cell_type": "raw",
   "id": "80295f79-68f3-4830-90d2-97b723ffb7d1",
   "metadata": {},
   "source": [
    "🧮 Variance (var)\n",
    "\n",
    "Think of it like:\n",
    "“How far do my data points wander away from the mean?”\n",
    "\n",
    "\n",
    "\n",
    "\n",
    "It’s the average of the squared differences from the mean.\n",
    "So bigger variance = data points are more spread out.\n",
    "\n",
    "⚡ Standard Deviation (std)\n",
    "\n",
    "It’s just the square root of variance.\n",
    "\n",
    "\n",
    "\n",
    "\n",
    "Basically, it brings the “spread” back to the same unit as your data.\n",
    "So if your data is in centimeters, your std is also in centimeters — not cm² like variance."
   ]
  },
  {
   "cell_type": "code",
   "execution_count": 10,
   "id": "953f5e1d-1a74-41b3-b55f-e27e9605a86c",
   "metadata": {},
   "outputs": [
    {
     "name": "stdout",
     "output_type": "stream",
     "text": [
      "24\n",
      "2400\n"
     ]
    }
   ],
   "source": [
    "print(np.sum(arr)) \n",
    "print(np.prod(arr))"
   ]
  },
  {
   "cell_type": "code",
   "execution_count": 12,
   "id": "f041c93e-b8f4-4abd-8233-332c0bd3b208",
   "metadata": {},
   "outputs": [
    {
     "name": "stdout",
     "output_type": "stream",
     "text": [
      "4.0\n"
     ]
    }
   ],
   "source": [
    "print(np.median(arr)) # Compute the median of an array."
   ]
  },
  {
   "cell_type": "code",
   "execution_count": 13,
   "id": "bf35eaf2-9b73-4056-819a-a8b606405f2b",
   "metadata": {},
   "outputs": [
    {
     "name": "stdout",
     "output_type": "stream",
     "text": [
      "5.0\n"
     ]
    }
   ],
   "source": [
    "print(np.percentile(arr,95))  #Compute the percentile of an array."
   ]
  },
  {
   "cell_type": "code",
   "execution_count": 14,
   "id": "053570e6-091a-487b-85f4-b197bff4044e",
   "metadata": {},
   "outputs": [
    {
     "name": "stdout",
     "output_type": "stream",
     "text": [
      "0\n",
      "4\n"
     ]
    }
   ],
   "source": [
    "print(np.argmin(arr))  #Return the index of the minimum value in an array.\n",
    "print(np.argmax(arr))  #Return the index of the maximum value in an array."
   ]
  },
  {
   "cell_type": "code",
   "execution_count": 18,
   "id": "175c7f2b-2bd7-40a7-9ee7-b0d3ef03ec0a",
   "metadata": {},
   "outputs": [],
   "source": [
    "arr2=np.array([12,43,55,65,43,45,0])"
   ]
  },
  {
   "cell_type": "code",
   "execution_count": 19,
   "id": "3212926e-e684-486f-bbbb-55b7501f9922",
   "metadata": {},
   "outputs": [
    {
     "name": "stdout",
     "output_type": "stream",
     "text": [
      "[[1.        0.1390222]\n",
      " [0.1390222 1.       ]]\n"
     ]
    }
   ],
   "source": [
    "print(np.corrcoef(arr,arr2))"
   ]
  },
  {
   "cell_type": "code",
   "execution_count": 20,
   "id": "32e2660a-936c-4ad2-aafe-3f22f2d55039",
   "metadata": {},
   "outputs": [
    {
     "name": "stdout",
     "output_type": "stream",
     "text": [
      "[1 2 3 4 5]\n"
     ]
    }
   ],
   "source": [
    "print(np.unique(arr)) #Find the unique elements of an array."
   ]
  },
  {
   "cell_type": "code",
   "execution_count": 21,
   "id": "aa98f485-ec00-47ba-a372-f7ecf8c14c0c",
   "metadata": {},
   "outputs": [
    {
     "name": "stdout",
     "output_type": "stream",
     "text": [
      "[ 2  1 -2  3  0 -1]\n"
     ]
    }
   ],
   "source": [
    "print(np.diff(arr)) #np.diff() literally calculates the difference between consecutive elements in an array."
   ]
  },
  {
   "cell_type": "code",
   "execution_count": 22,
   "id": "84a31154-8e84-4c2f-a35e-22e618d53c88",
   "metadata": {},
   "outputs": [
    {
     "name": "stdout",
     "output_type": "stream",
     "text": [
      "[ 1  4  8 10 15 20 24]\n"
     ]
    }
   ],
   "source": [
    "print(np.cumsum(arr)) #“Keep adding each number to the total so far, and show me the running score.” 🏆"
   ]
  },
  {
   "cell_type": "code",
   "execution_count": 23,
   "id": "d3e67995-ab5b-4cc1-a82a-2a8f38a8a2f6",
   "metadata": {},
   "outputs": [
    {
     "name": "stdout",
     "output_type": "stream",
     "text": [
      "[0.         1.09861229 1.38629436 0.69314718 1.60943791 1.60943791\n",
      " 1.38629436]\n"
     ]
    }
   ],
   "source": [
    "print(np.log(arr))"
   ]
  },
  {
   "cell_type": "code",
   "execution_count": 24,
   "id": "88ce01fd-f1ab-4ee4-bd6e-d31aed27f4ea",
   "metadata": {},
   "outputs": [
    {
     "name": "stdout",
     "output_type": "stream",
     "text": [
      "[  2.71828183  20.08553692  54.59815003   7.3890561  148.4131591\n",
      " 148.4131591   54.59815003]\n"
     ]
    }
   ],
   "source": [
    "print(np.exp(arr))"
   ]
  },
  {
   "cell_type": "code",
   "execution_count": 25,
   "id": "82f6eb1f-5906-45ba-9fde-f802610899c8",
   "metadata": {},
   "outputs": [
    {
     "name": "stdout",
     "output_type": "stream",
     "text": [
      "[1.         1.73205081 2.         1.41421356 2.23606798 2.23606798\n",
      " 2.        ]\n"
     ]
    }
   ],
   "source": [
    "print(np.sqrt(arr))"
   ]
  },
  {
   "cell_type": "code",
   "execution_count": 28,
   "id": "608d2714-c1b6-4795-bf0d-8e3f57c6cf71",
   "metadata": {},
   "outputs": [
    {
     "name": "stdout",
     "output_type": "stream",
     "text": [
      "[[ 1  3  4  2  5  5  4]\n",
      " [12 43 55 65 43 45  0]]\n"
     ]
    }
   ],
   "source": [
    "print(np.vstack((arr,arr2))) # stacks arr and arr2 vertically"
   ]
  },
  {
   "cell_type": "code",
   "execution_count": 29,
   "id": "76c31f4a-ca82-4c78-bb9c-cf7a3e278487",
   "metadata": {},
   "outputs": [
    {
     "name": "stdout",
     "output_type": "stream",
     "text": [
      "[ 1  3  4  2  5  5  4 12 43 55 65 43 45  0]\n"
     ]
    }
   ],
   "source": [
    "print(np.hstack((arr,arr2))) # stacks arr and arr2 horizontally"
   ]
  },
  {
   "cell_type": "code",
   "execution_count": null,
   "id": "239f74bd-21de-427d-a7b8-7d5d03841a06",
   "metadata": {},
   "outputs": [],
   "source": []
  }
 ],
 "metadata": {
  "kernelspec": {
   "display_name": "Python 3 (ipykernel)",
   "language": "python",
   "name": "python3"
  },
  "language_info": {
   "codemirror_mode": {
    "name": "ipython",
    "version": 3
   },
   "file_extension": ".py",
   "mimetype": "text/x-python",
   "name": "python",
   "nbconvert_exporter": "python",
   "pygments_lexer": "ipython3",
   "version": "3.13.5"
  }
 },
 "nbformat": 4,
 "nbformat_minor": 5
}
