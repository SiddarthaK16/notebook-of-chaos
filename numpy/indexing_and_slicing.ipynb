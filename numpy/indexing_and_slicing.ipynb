{
 "cells": [
  {
   "cell_type": "code",
   "execution_count": 1,
   "id": "d71e03df-c9fb-4689-b1c3-bb8ddbdcd7d5",
   "metadata": {},
   "outputs": [],
   "source": [
    "import numpy as np"
   ]
  },
  {
   "cell_type": "code",
   "execution_count": 2,
   "id": "e602e280-9f77-4bb9-b185-11ec9d7346da",
   "metadata": {},
   "outputs": [
    {
     "name": "stdout",
     "output_type": "stream",
     "text": [
      "[[1 2 3]\n",
      " [7 8 9]\n",
      " [1 4 6]]\n"
     ]
    }
   ],
   "source": [
    "arr=np.array([[1,2,3],[7,8,9],[1,4,6]])\n",
    "print(arr)"
   ]
  },
  {
   "cell_type": "code",
   "execution_count": 3,
   "id": "bc75099f-5538-4120-a675-0c86498b5fb7",
   "metadata": {},
   "outputs": [
    {
     "name": "stdout",
     "output_type": "stream",
     "text": [
      "[1 2 3 7 8 9 1 4 6]\n"
     ]
    }
   ],
   "source": [
    "flat=arr.flatten()\n",
    "print(flat)"
   ]
  },
  {
   "cell_type": "code",
   "execution_count": 7,
   "id": "1585de8b-88f7-4b8e-afa2-cd536a2177ba",
   "metadata": {},
   "outputs": [
    {
     "name": "stdout",
     "output_type": "stream",
     "text": [
      "7\n",
      "9\n",
      "2\n"
     ]
    }
   ],
   "source": [
    "print(flat[3])  #Indexing same as python\n",
    "print(flat[-4])\n",
    "print(flat[1])"
   ]
  },
  {
   "cell_type": "code",
   "execution_count": 9,
   "id": "9cb128bd-e1e9-44cf-891a-59a54177446e",
   "metadata": {},
   "outputs": [
    {
     "name": "stdout",
     "output_type": "stream",
     "text": [
      "[2 3 7]\n",
      "[1 2 3]\n",
      "[1 3 8 1 6]\n"
     ]
    }
   ],
   "source": [
    "print(flat[1:4])  # [2,3,7] (slice from index 1 to 3)\n",
    "print(flat[:3])   # [1,2,3] (first 3 elements)\n",
    "print(flat[::2])  # [1,3,8,1,6] (every 2nd element)  #(start:stop:jump)"
   ]
  },
  {
   "cell_type": "markdown",
   "id": "14b7320b-3646-4fd9-afb9-423ff5dae101",
   "metadata": {},
   "source": [
    "## Slicing returns a view, not a copy! Changes affect the original array.**\n",
    "This might seem counterintuitive since Python lists create copies when sliced. But in NumPy, slicing returns a view of the original array. Both the sliced array and the original array share the same data in memory, so changes in the slice affect the original array.\n",
    "\n",
    "Why does this happen?\n",
    "\n",
    "Memory Efficiency: Avoids unnecessary copies, making operations faster and saving memory.\n",
    "Performance: Enables faster access and manipulation of large datasets without duplicating data."
   ]
  },
  {
   "cell_type": "code",
   "execution_count": 10,
   "id": "6858280c-9304-4e96-b8f6-6fb40d83b1f4",
   "metadata": {},
   "outputs": [
    {
     "data": {
      "text/plain": [
       "array([ 1,  2,  3,  4,  5,  6,  7,  8,  9, 10, 11, 12, 13, 14, 15, 16, 17,\n",
       "       18, 19, 20, 21, 22, 23, 24, 25, 26, 27, 28, 29, 30, 31, 32, 33, 34,\n",
       "       35, 36, 37, 38, 39, 40, 41, 42, 43, 44, 45])"
      ]
     },
     "execution_count": 10,
     "metadata": {},
     "output_type": "execute_result"
    }
   ],
   "source": [
    "train=np.arange(1,46)\n",
    "train"
   ]
  },
  {
   "cell_type": "code",
   "execution_count": 12,
   "id": "6a35a414-cba0-4a01-9ea1-cbe836d475a7",
   "metadata": {},
   "outputs": [],
   "source": [
    "a=train[3:7]"
   ]
  },
  {
   "cell_type": "code",
   "execution_count": 14,
   "id": "e8d4332e-5e2b-4bd1-97be-abf018ed22b6",
   "metadata": {},
   "outputs": [
    {
     "data": {
      "text/plain": [
       "array([ 4,  5, 10,  7])"
      ]
     },
     "execution_count": 14,
     "metadata": {},
     "output_type": "execute_result"
    }
   ],
   "source": [
    "a[2]=10\n",
    "a"
   ]
  },
  {
   "cell_type": "code",
   "execution_count": 15,
   "id": "a607af12-6c11-4001-96f0-5eda277c6705",
   "metadata": {},
   "outputs": [
    {
     "data": {
      "text/plain": [
       "array([ 1,  2,  3,  4,  5, 10,  7,  8,  9, 10, 11, 12, 13, 14, 15, 16, 17,\n",
       "       18, 19, 20, 21, 22, 23, 24, 25, 26, 27, 28, 29, 30, 31, 32, 33, 34,\n",
       "       35, 36, 37, 38, 39, 40, 41, 42, 43, 44, 45])"
      ]
     },
     "execution_count": 15,
     "metadata": {},
     "output_type": "execute_result"
    }
   ],
   "source": [
    "train"
   ]
  },
  {
   "cell_type": "code",
   "execution_count": null,
   "id": "1d24b3a2-94ee-435c-828a-278dfccbce0f",
   "metadata": {},
   "outputs": [],
   "source": [
    "# If you need copy , explicitly use .copy()"
   ]
  },
  {
   "cell_type": "code",
   "execution_count": 17,
   "id": "7abe44dd-126d-4c76-b852-ee9358680ebb",
   "metadata": {},
   "outputs": [
    {
     "data": {
      "text/plain": [
       "array([ 3,  4,  5, 10,  7,  8,  9])"
      ]
     },
     "execution_count": 17,
     "metadata": {},
     "output_type": "execute_result"
    }
   ],
   "source": [
    "b=train[2:9].copy()\n",
    "b\n"
   ]
  },
  {
   "cell_type": "code",
   "execution_count": 18,
   "id": "08eb6bc3-cff7-4cec-b50a-7d1a2ec52a98",
   "metadata": {},
   "outputs": [],
   "source": [
    "b[4]=1000000"
   ]
  },
  {
   "cell_type": "code",
   "execution_count": 19,
   "id": "231fc931-2aa7-4932-a8a1-d3cc1b6cc7a3",
   "metadata": {},
   "outputs": [
    {
     "data": {
      "text/plain": [
       "array([      3,       4,       5,      10, 1000000,       8,       9])"
      ]
     },
     "execution_count": 19,
     "metadata": {},
     "output_type": "execute_result"
    }
   ],
   "source": [
    "b"
   ]
  },
  {
   "cell_type": "code",
   "execution_count": 20,
   "id": "0676b223-0585-4fb1-aa38-a2c02b9a9538",
   "metadata": {},
   "outputs": [
    {
     "data": {
      "text/plain": [
       "array([ 1,  2,  3,  4,  5, 10,  7,  8,  9, 10, 11, 12, 13, 14, 15, 16, 17,\n",
       "       18, 19, 20, 21, 22, 23, 24, 25, 26, 27, 28, 29, 30, 31, 32, 33, 34,\n",
       "       35, 36, 37, 38, 39, 40, 41, 42, 43, 44, 45])"
      ]
     },
     "execution_count": 20,
     "metadata": {},
     "output_type": "execute_result"
    }
   ],
   "source": [
    "train"
   ]
  },
  {
   "cell_type": "markdown",
   "id": "4b3a7f70-3d31-415d-946a-5ef68ed1853e",
   "metadata": {},
   "source": [
    "# FANCY INDEXING"
   ]
  },
  {
   "cell_type": "code",
   "execution_count": 21,
   "id": "66bec6e8-dd51-416e-b908-6aff1619ac69",
   "metadata": {},
   "outputs": [
    {
     "name": "stdout",
     "output_type": "stream",
     "text": [
      "[10 30 50]\n"
     ]
    }
   ],
   "source": [
    "arr = np.array([10, 20, 30, 40, 50])\n",
    "idx = [0, 2, 4]  # Indices to select\n",
    "print(arr[idx])  # [10 30 50]"
   ]
  },
  {
   "cell_type": "markdown",
   "id": "5d7107c0-5491-4dcc-8d77-bcf7f6b9c5a7",
   "metadata": {},
   "source": [
    "# MASKING"
   ]
  },
  {
   "cell_type": "code",
   "execution_count": 22,
   "id": "99738d71-52f1-4a90-8ea7-f831d98f219c",
   "metadata": {},
   "outputs": [
    {
     "name": "stdout",
     "output_type": "stream",
     "text": [
      "[30 40 50]\n"
     ]
    }
   ],
   "source": [
    "arr = np.array([10, 20, 30, 40, 50])\n",
    "mask = arr > 25  # Condition: values greater than 25\n",
    "print(arr[mask])  # [30 40 50]"
   ]
  },
  {
   "cell_type": "code",
   "execution_count": null,
   "id": "c6dc1d32-2c93-420a-9872-7dcf14d3b6cc",
   "metadata": {},
   "outputs": [],
   "source": []
  }
 ],
 "metadata": {
  "kernelspec": {
   "display_name": "Python 3 (ipykernel)",
   "language": "python",
   "name": "python3"
  },
  "language_info": {
   "codemirror_mode": {
    "name": "ipython",
    "version": 3
   },
   "file_extension": ".py",
   "mimetype": "text/x-python",
   "name": "python",
   "nbconvert_exporter": "python",
   "pygments_lexer": "ipython3",
   "version": "3.13.5"
  }
 },
 "nbformat": 4,
 "nbformat_minor": 5
}
