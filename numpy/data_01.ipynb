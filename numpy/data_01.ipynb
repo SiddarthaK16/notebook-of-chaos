{
 "cells": [
  {
   "cell_type": "code",
   "execution_count": 1,
   "id": "55744f1d",
   "metadata": {},
   "outputs": [],
   "source": [
    "import numpy as np"
   ]
  },
  {
   "cell_type": "code",
   "execution_count": 2,
   "id": "2729c08d",
   "metadata": {},
   "outputs": [],
   "source": [
    "\n",
    "\n",
    "marks = np.array([  \n",
    "    [78, 85, 62, 90, 88],  \n",
    "    [92, 76, 81, 95, 89],  \n",
    "    [65, 70, 58, 60, 72],  \n",
    "    [88, 90, 92, 85, 91],  \n",
    "    [55, 60, 65, 70, 75],  \n",
    "    [99, 95, 100, 98, 97],  \n",
    "    [80, 82, 78, 85, 88],  \n",
    "    [72, 68, 74, 70, 65],  \n",
    "    [91, 89, 85, 87, 90],  \n",
    "    [60, 65, 55, 58, 62]  \n",
    "])"
   ]
  },
  {
   "cell_type": "markdown",
   "id": "0b2fff39",
   "metadata": {},
   "source": [
    "### MEAN MARKS PER SUBJECT"
   ]
  },
  {
   "cell_type": "code",
   "execution_count": 5,
   "id": "70c83975",
   "metadata": {},
   "outputs": [
    {
     "name": "stdout",
     "output_type": "stream",
     "text": [
      "Mean in subject is :  78.0\n",
      "Mean in subject is :  78.0\n",
      "Mean in subject is :  75.0\n",
      "Mean in subject is :  79.8\n",
      "Mean in subject is :  81.7\n"
     ]
    }
   ],
   "source": [
    "for i in range(5):\n",
    "    \n",
    "        print(\"Mean in subject is : \",np.mean(marks[:,i],axis=0))\n"
   ]
  },
  {
   "cell_type": "markdown",
   "id": "cb014646",
   "metadata": {},
   "source": [
    "### HIGHEST MARKS PER STUDENT"
   ]
  },
  {
   "cell_type": "code",
   "execution_count": 8,
   "id": "7d4a1b93",
   "metadata": {},
   "outputs": [
    {
     "name": "stdout",
     "output_type": "stream",
     "text": [
      "Student 1 highest mark: 90\n",
      "Student 2 highest mark: 95\n",
      "Student 3 highest mark: 72\n",
      "Student 4 highest mark: 92\n",
      "Student 5 highest mark: 75\n",
      "Student 6 highest mark: 100\n",
      "Student 7 highest mark: 88\n",
      "Student 8 highest mark: 74\n",
      "Student 9 highest mark: 91\n",
      "Student 10 highest mark: 65\n"
     ]
    }
   ],
   "source": [
    "for i in range(10):\n",
    "    print(f\"Student {i+1} highest mark: {np.max(marks[i])}\")\n"
   ]
  },
  {
   "cell_type": "markdown",
   "id": "7fb9f3a3",
   "metadata": {},
   "source": [
    "### STUDENT WITH HIGHEST MARKS"
   ]
  },
  {
   "cell_type": "code",
   "execution_count": null,
   "id": "e58d042f",
   "metadata": {},
   "outputs": [
    {
     "name": "stdout",
     "output_type": "stream",
     "text": [
      "Student with highest total marks is student number 6 with total marks 489.\n"
     ]
    }
   ],
   "source": [
    "totals = np.sum(marks, axis=1)\n",
    "topper_index = np.argmax(totals) #Tells us index of highest total marks\n",
    "print(f\"Student with highest total marks is student number {topper_index+1} with total marks {totals[topper_index]}.\")\n"
   ]
  },
  {
   "cell_type": "markdown",
   "id": "4cf0dccc",
   "metadata": {},
   "source": [
    "### SUBJECT WITH LOWEST AVERAGE"
   ]
  },
  {
   "cell_type": "code",
   "execution_count": 13,
   "id": "29adcc21",
   "metadata": {},
   "outputs": [
    {
     "name": "stdout",
     "output_type": "stream",
     "text": [
      "The subject 3 has least average of 75.0 amongst all. Please change that stupid professor!!\n"
     ]
    }
   ],
   "source": [
    "average=np.mean(marks,axis=0)\n",
    "index=np.argmin(average)\n",
    "\n",
    "print(f'The subject {index+1} has least average of {average[index]} amongst all. Please change that stupid professor!!')"
   ]
  },
  {
   "cell_type": "markdown",
   "id": "eb70ac14",
   "metadata": {},
   "source": [
    "### STANDARD DEVIATION OF MARKS"
   ]
  },
  {
   "cell_type": "code",
   "execution_count": null,
   "id": "d209584d",
   "metadata": {},
   "outputs": [
    {
     "name": "stdout",
     "output_type": "stream",
     "text": [
      "The standard deviation of marks is [14.02854233 11.3137085  14.20563269 13.53366174 11.52432211]\n"
     ]
    }
   ],
   "source": [
    "print(f'The standard deviation of marks is {np.std(marks,axis=0)}')\n",
    "\n",
    "\n",
    "#It tells us how the values are scattered wrt average.. if standard deviation small , values are clustured near average otherwise values are scattered away from average.\n",
    "#Subject 5 is more consistent as many students are getting marks near average as std value is small\n"
   ]
  },
  {
   "cell_type": "markdown",
   "id": "bdda2b8a",
   "metadata": {},
   "source": [
    "### students scored above 90 in at least one subject"
   ]
  },
  {
   "cell_type": "code",
   "execution_count": null,
   "id": "e50292bf",
   "metadata": {},
   "outputs": [
    {
     "name": "stdout",
     "output_type": "stream",
     "text": [
      "Total 4 students scored above 90 in at least one subject\n"
     ]
    }
   ],
   "source": [
    "\n",
    "above_90_any = np.any(marks > 90, axis=1) ## Boolean array: True if student scored >90 in any subject\n",
    "\n",
    "\n",
    "count = np.sum(above_90_any)\n",
    "\n",
    "print(f\"Total {count} students scored above 90 in at least one subject\")\n",
    "\n",
    "## Create a boolean array where True indicates a student scored >90 in a subject\n",
    "# np.any(..., axis=1) collapses each row to a single True/False:\n",
    "#   True → student scored >90 in at least one subject\n",
    "#   False → student didn't score >90 in any subject\n",
    "# np.sum(...) then counts how many students have at least one True\n",
    "\n"
   ]
  },
  {
   "cell_type": "markdown",
   "id": "9f442043",
   "metadata": {},
   "source": [
    "### SORTED MARKS PER STUDENT"
   ]
  },
  {
   "cell_type": "code",
   "execution_count": 24,
   "id": "21d167f3",
   "metadata": {},
   "outputs": [
    {
     "name": "stdout",
     "output_type": "stream",
     "text": [
      "[[ 62  78  85  88  90]\n",
      " [ 76  81  89  92  95]\n",
      " [ 58  60  65  70  72]\n",
      " [ 85  88  90  91  92]\n",
      " [ 55  60  65  70  75]\n",
      " [ 95  97  98  99 100]\n",
      " [ 78  80  82  85  88]\n",
      " [ 65  68  70  72  74]\n",
      " [ 85  87  89  90  91]\n",
      " [ 55  58  60  62  65]]\n"
     ]
    }
   ],
   "source": [
    "sorted=np.sort(marks,axis=1)\n",
    "print(sorted)"
   ]
  },
  {
   "cell_type": "markdown",
   "id": "988e1162",
   "metadata": {},
   "source": [
    "### OVERALL CLASS AVERAGE"
   ]
  },
  {
   "cell_type": "code",
   "execution_count": 25,
   "id": "29e39ac7",
   "metadata": {},
   "outputs": [
    {
     "name": "stdout",
     "output_type": "stream",
     "text": [
      "Overall class average is 78.5\n"
     ]
    }
   ],
   "source": [
    "print(f\"Overall class average is {np.mean(marks)}\")"
   ]
  },
  {
   "cell_type": "markdown",
   "id": "35474645",
   "metadata": {},
   "source": [
    "### LOWEST MARKS INDEX"
   ]
  },
  {
   "cell_type": "code",
   "execution_count": null,
   "id": "1cdf8e49",
   "metadata": {},
   "outputs": [
    {
     "name": "stdout",
     "output_type": "stream",
     "text": [
      "The lowest mark is 55 of student 5 in subject 1\n"
     ]
    }
   ],
   "source": [
    "# Find the index of the minimum mark in the flattened array\n",
    "min_index_flat = np.argmin(marks)\n",
    "\n",
    "# Convert flattened index to (row, column)\n",
    "row, col = np.unravel_index(min_index_flat, marks.shape)\n",
    "\n",
    "print(f\"The lowest mark is {marks[row, col]} of student {row+1} in subject {col+1}\")"
   ]
  },
  {
   "cell_type": "markdown",
   "id": "609a56cb",
   "metadata": {},
   "source": [
    "### NORMALISE"
   ]
  },
  {
   "cell_type": "code",
   "execution_count": null,
   "id": "b4731276",
   "metadata": {},
   "outputs": [],
   "source": [
    "#xnorm​=x-xmin/xmax−xmin​​ in formula to make all marks cocelead in range 0 to 1... with 1 being assigned to highest value and 0 to minimun value"
   ]
  },
  {
   "cell_type": "code",
   "execution_count": 32,
   "id": "a44c305c",
   "metadata": {},
   "outputs": [
    {
     "name": "stdout",
     "output_type": "stream",
     "text": [
      "[[0.51111111 0.66666667 0.15555556 0.77777778 0.73333333]\n",
      " [0.82222222 0.46666667 0.57777778 0.88888889 0.75555556]\n",
      " [0.22222222 0.33333333 0.06666667 0.11111111 0.37777778]\n",
      " [0.73333333 0.77777778 0.82222222 0.66666667 0.8       ]\n",
      " [0.         0.11111111 0.22222222 0.33333333 0.44444444]\n",
      " [0.97777778 0.88888889 1.         0.95555556 0.93333333]\n",
      " [0.55555556 0.6        0.51111111 0.66666667 0.73333333]\n",
      " [0.37777778 0.28888889 0.42222222 0.33333333 0.22222222]\n",
      " [0.8        0.75555556 0.66666667 0.71111111 0.77777778]\n",
      " [0.11111111 0.22222222 0.         0.06666667 0.15555556]]\n"
     ]
    }
   ],
   "source": [
    "max_marks=np.max(marks)\n",
    "min_marks=np.min(marks)\n",
    "\n",
    "normalise_marks= (marks-min_marks)/(max_marks-min_marks)\n",
    "print(normalise_marks)"
   ]
  },
  {
   "cell_type": "code",
   "execution_count": null,
   "id": "c47ec936",
   "metadata": {},
   "outputs": [],
   "source": []
  }
 ],
 "metadata": {
  "kernelspec": {
   "display_name": "jupyter_env",
   "language": "python",
   "name": "python3"
  },
  "language_info": {
   "codemirror_mode": {
    "name": "ipython",
    "version": 3
   },
   "file_extension": ".py",
   "mimetype": "text/x-python",
   "name": "python",
   "nbconvert_exporter": "python",
   "pygments_lexer": "ipython3",
   "version": "3.13.2"
  }
 },
 "nbformat": 4,
 "nbformat_minor": 5
}
