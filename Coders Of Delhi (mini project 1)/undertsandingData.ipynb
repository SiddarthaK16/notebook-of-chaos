{
 "cells": [
  {
   "cell_type": "code",
   "execution_count": 1,
   "id": "6547bfa1-c067-4a01-9369-58c71a0b6df8",
   "metadata": {},
   "outputs": [],
   "source": [
    "import json"
   ]
  },
  {
   "cell_type": "code",
   "execution_count": 2,
   "id": "04c6afef-c157-4096-82fe-cfae9835cd71",
   "metadata": {},
   "outputs": [],
   "source": [
    "def loadData(filename):   # To load data\n",
    "    with open (filename,'r') as f:\n",
    "        data=json.load(f)\n",
    "    return data"
   ]
  },
  {
   "cell_type": "code",
   "execution_count": 3,
   "id": "e15953ec-2b07-4811-ba66-645911fa31ef",
   "metadata": {},
   "outputs": [],
   "source": [
    "data=loadData(\"data.json\")"
   ]
  },
  {
   "cell_type": "code",
   "execution_count": 4,
   "id": "4dada7cf-33c0-4216-9a56-34bd2a3edb1b",
   "metadata": {},
   "outputs": [
    {
     "data": {
      "text/plain": [
       "{'users': [{'id': 1, 'name': 'Amit', 'friends': [2, 3], 'liked_pages': [101]},\n",
       "  {'id': 2, 'name': 'Priya', 'friends': [1, 4], 'liked_pages': [102]},\n",
       "  {'id': 3, 'name': 'Rahul', 'friends': [1], 'liked_pages': [101, 103]},\n",
       "  {'id': 4, 'name': 'Sara', 'friends': [2], 'liked_pages': [104]}],\n",
       " 'pages': [{'id': 101, 'name': 'Python Developers'},\n",
       "  {'id': 102, 'name': 'Data Science Enthusiasts'},\n",
       "  {'id': 103, 'name': 'AI & ML Community'},\n",
       "  {'id': 104, 'name': 'Web Dev Hub'}]}"
      ]
     },
     "execution_count": 4,
     "metadata": {},
     "output_type": "execute_result"
    }
   ],
   "source": [
    "data"
   ]
  },
  {
   "cell_type": "code",
   "execution_count": 5,
   "id": "7e0489e5-5402-4b1f-b1ce-88aaa50424d3",
   "metadata": {},
   "outputs": [
    {
     "data": {
      "text/plain": [
       "dict"
      ]
     },
     "execution_count": 5,
     "metadata": {},
     "output_type": "execute_result"
    }
   ],
   "source": [
    "type(data)"
   ]
  },
  {
   "cell_type": "code",
   "execution_count": 10,
   "id": "3dc8338c-b771-483f-9a1f-ee7b0526ac0e",
   "metadata": {},
   "outputs": [],
   "source": [
    "def showConnections(data) :\n",
    "    print(\"Users and their connections \\n\")\n",
    "    for user in data['users']:\n",
    "        print(f\"{user['name']} is friends with : {user['friends']} and liked pages {user['liked_pages']}\")\n",
    "    print(\"\\n\")\n",
    "    print(\"Pages Information \\n\")\n",
    "    for page in data['pages']:\n",
    "        print(f\"{page['id']} : {page['name']}\") \n",
    "    "
   ]
  },
  {
   "cell_type": "code",
   "execution_count": 11,
   "id": "cf9276a9-a9f2-4727-b310-299c0c69762e",
   "metadata": {},
   "outputs": [
    {
     "name": "stdout",
     "output_type": "stream",
     "text": [
      "Users and their connections \n",
      "\n",
      "Amit is friends with : [2, 3] and liked pages [101]\n",
      "Priya is friends with : [1, 4] and liked pages [102]\n",
      "Rahul is friends with : [1] and liked pages [101, 103]\n",
      "Sara is friends with : [2] and liked pages [104]\n",
      "\n",
      "\n",
      "Pages Information \n",
      "\n",
      "101 : Python Developers\n",
      "102 : Data Science Enthusiasts\n",
      "103 : AI & ML Community\n",
      "104 : Web Dev Hub\n"
     ]
    }
   ],
   "source": [
    "showConnections(data)"
   ]
  },
  {
   "cell_type": "code",
   "execution_count": null,
   "id": "8e653d0f-1ac1-4e04-a826-8883f080faa2",
   "metadata": {},
   "outputs": [],
   "source": []
  }
 ],
 "metadata": {
  "kernelspec": {
   "display_name": "Python 3 (ipykernel)",
   "language": "python",
   "name": "python3"
  },
  "language_info": {
   "codemirror_mode": {
    "name": "ipython",
    "version": 3
   },
   "file_extension": ".py",
   "mimetype": "text/x-python",
   "name": "python",
   "nbconvert_exporter": "python",
   "pygments_lexer": "ipython3",
   "version": "3.13.5"
  }
 },
 "nbformat": 4,
 "nbformat_minor": 5
}
