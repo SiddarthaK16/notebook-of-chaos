{
 "cells": [
  {
   "cell_type": "raw",
   "id": "1e6e8e7f-5c9a-4a25-9be0-1b8cbbfdc9a2",
   "metadata": {},
   "source": [
    "What is Pandas?\n",
    "Pandas is a powerful, open-source Python library used for data manipulation, cleaning, and analysis. It provides two main data structures:\n",
    "\n",
    "Series: A one-dimensional labeled array\n",
    "DataFrame: A two-dimensional labeled table (like an Excel sheet or SQL table)\n",
    "Pandas makes working with structured data fast, expressive, and flexible.\n",
    "\n",
    "If you're working with tables, spreadsheets, or CSVs in Python—Pandas is your best friend.\n",
    "\n",
    "\n",
    "Why Use Pandas?\n",
    "Task\t              Without Pandas                  \tWith Pandas\n",
    "Load a CSV  \t     open() + loops\t                 pd.read_csv()\n",
    "Filter rows\tCustom   loop logic\t               df[df[\"col\"] > 5]\n",
    "Group & summarize\t Manual aggregation\t         df.groupby()\n",
    "Merge two datasets\t  Nested loops\t            pd.merge()\n",
    "\n",
    "Pandas saves time, reduces code, and   increases readability."
   ]
  },
  {
   "cell_type": "code",
   "execution_count": 1,
   "id": "c4b9e296-0947-41ee-80f4-e8d3481463e0",
   "metadata": {},
   "outputs": [],
   "source": [
    "import pandas as pd"
   ]
  },
  {
   "cell_type": "code",
   "execution_count": null,
   "id": "d449fcca-7b6f-49f4-80b1-5a24e02716b6",
   "metadata": {},
   "outputs": [],
   "source": []
  }
 ],
 "metadata": {
  "kernelspec": {
   "display_name": "Python 3 (ipykernel)",
   "language": "python",
   "name": "python3"
  },
  "language_info": {
   "codemirror_mode": {
    "name": "ipython",
    "version": 3
   },
   "file_extension": ".py",
   "mimetype": "text/x-python",
   "name": "python",
   "nbconvert_exporter": "python",
   "pygments_lexer": "ipython3",
   "version": "3.13.5"
  }
 },
 "nbformat": 4,
 "nbformat_minor": 5
}
