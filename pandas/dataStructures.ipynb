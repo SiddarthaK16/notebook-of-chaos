{
 "cells": [
  {
   "cell_type": "code",
   "execution_count": 1,
   "id": "a2494e3f-0485-4fbd-a4c5-ab7a51979c66",
   "metadata": {},
   "outputs": [],
   "source": [
    "import pandas as pd"
   ]
  },
  {
   "cell_type": "markdown",
   "id": "df3fc019-4356-48fe-9598-3774183f7cae",
   "metadata": {},
   "source": [
    "# Series — 1D Labeled Array"
   ]
  },
  {
   "cell_type": "code",
   "execution_count": 3,
   "id": "e16a18e6-68a5-4d4e-b297-e434a74393d7",
   "metadata": {},
   "outputs": [
    {
     "name": "stdout",
     "output_type": "stream",
     "text": [
      "Siddartha     99\n",
      "Sourav        65\n",
      "Arun          78\n",
      "Aniket        78\n",
      "Surya         66\n",
      "Venky         68\n",
      "Raghu         56\n",
      "Jagan         92\n",
      "Bru          100\n",
      "dtype: int64\n",
      "<class 'pandas.core.series.Series'>\n"
     ]
    }
   ],
   "source": [
    "s=pd.Series([99,65,78,78,66,68,56,92,100] , index=['Siddartha' , 'Sourav' , 'Arun' , 'Aniket','Surya','Venky',\"Raghu\",'Jagan','Bru'])\n",
    "print(s)\n",
    "print(type(s))\n",
    "\n",
    "\n"
   ]
  },
  {
   "cell_type": "code",
   "execution_count": 5,
   "id": "ffa1816d-0dd9-460c-98e2-942759763788",
   "metadata": {},
   "outputs": [
    {
     "name": "stdout",
     "output_type": "stream",
     "text": [
      "78\n"
     ]
    }
   ],
   "source": [
    "print(s[\"Arun\"])"
   ]
  },
  {
   "cell_type": "code",
   "execution_count": 6,
   "id": "97685ddf-8c38-4b24-8426-03602571e127",
   "metadata": {},
   "outputs": [
    {
     "name": "stdout",
     "output_type": "stream",
     "text": [
      "100\n"
     ]
    }
   ],
   "source": [
    "print(s[\"Bru\"])"
   ]
  },
  {
   "cell_type": "code",
   "execution_count": 7,
   "id": "ba7094e8-fc01-4fb5-a548-cd1e39b56ed2",
   "metadata": {},
   "outputs": [
    {
     "name": "stdout",
     "output_type": "stream",
     "text": [
      "66\n"
     ]
    },
    {
     "name": "stderr",
     "output_type": "stream",
     "text": [
      "C:\\Users\\Siddartha\\AppData\\Local\\Temp\\ipykernel_15412\\2660035851.py:1: FutureWarning: Series.__getitem__ treating keys as positions is deprecated. In a future version, integer keys will always be treated as labels (consistent with DataFrame behavior). To access a value by position, use `ser.iloc[pos]`\n",
      "  print(s[4])\n"
     ]
    }
   ],
   "source": [
    "print(s[4])  # DO NOT USSEEEEEEEEEEEEEEEEEEEEEEEEEEEEEEEEEEEEEEEEEEEEEEEEEEE"
   ]
  },
  {
   "cell_type": "markdown",
   "id": "67f5c769-061a-4be6-b42e-152b5fcb1a10",
   "metadata": {},
   "source": [
    "# DataFrame — 2D Labeled Table"
   ]
  },
  {
   "cell_type": "markdown",
   "id": "9885be02-d042-48cd-8a77-c915649bdc23",
   "metadata": {},
   "source": [
    "### A DataFrame is like a dictionary of Series — multiple columns with labels."
   ]
  },
  {
   "cell_type": "code",
   "execution_count": 8,
   "id": "1d2ade24-9710-42e5-af72-5401cfb5421d",
   "metadata": {},
   "outputs": [
    {
     "name": "stdout",
     "output_type": "stream",
     "text": [
      "      name  age       city\n",
      "0    Alice   25      Delhi\n",
      "1      Bob   30     Mumbai\n",
      "2  Charlie   35  Bangalore\n"
     ]
    }
   ],
   "source": [
    "data = {\n",
    "    \"name\": [\"Alice\", \"Bob\", \"Charlie\"],\n",
    "    \"age\": [25, 30, 35],\n",
    "    \"city\": [\"Delhi\", \"Mumbai\", \"Bangalore\"]\n",
    "}\n",
    "\n",
    "df = pd.DataFrame(data)\n",
    "print(df)         #Each column in a DataFrame is a Series."
   ]
  },
  {
   "cell_type": "code",
   "execution_count": 10,
   "id": "6ffdefb6-8b41-411f-9a8e-26651e9fab36",
   "metadata": {},
   "outputs": [
    {
     "data": {
      "text/plain": [
       "RangeIndex(start=0, stop=3, step=1)"
      ]
     },
     "execution_count": 10,
     "metadata": {},
     "output_type": "execute_result"
    }
   ],
   "source": [
    "df.index"
   ]
  },
  {
   "cell_type": "code",
   "execution_count": 11,
   "id": "048482bf-c498-4b23-b451-830a70f4d6d3",
   "metadata": {},
   "outputs": [
    {
     "data": {
      "text/plain": [
       "Index(['name', 'age', 'city'], dtype='object')"
      ]
     },
     "execution_count": 11,
     "metadata": {},
     "output_type": "execute_result"
    }
   ],
   "source": [
    "df.columns"
   ]
  },
  {
   "cell_type": "raw",
   "id": "f634b750-1c79-4e32-9b39-40738aeaa113",
   "metadata": {},
   "source": [
    "## Most Pandas operations are built on these foundations:\n",
    "\n",
    "Selection\n",
    "Filtering\n",
    "Merging\n",
    "Aggregation\n",
    "\n",
    "Understanding Series & DataFrames will make everything else easier.\n",
    "\n"
   ]
  }
 ],
 "metadata": {
  "kernelspec": {
   "display_name": "Python 3 (ipykernel)",
   "language": "python",
   "name": "python3"
  },
  "language_info": {
   "codemirror_mode": {
    "name": "ipython",
    "version": 3
   },
   "file_extension": ".py",
   "mimetype": "text/x-python",
   "name": "python",
   "nbconvert_exporter": "python",
   "pygments_lexer": "ipython3",
   "version": "3.13.5"
  }
 },
 "nbformat": 4,
 "nbformat_minor": 5
}
