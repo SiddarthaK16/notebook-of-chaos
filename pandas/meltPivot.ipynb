{
 "cells": [
  {
   "cell_type": "code",
   "execution_count": 1,
   "id": "b73a3aae-c2f5-4610-b436-e877af095cc7",
   "metadata": {},
   "outputs": [
    {
     "name": "stdout",
     "output_type": "stream",
     "text": [
      "      Name  Math  Science  English\n",
      "0    Alice    85       90       88\n",
      "1      Bob    78       82       85\n",
      "2  Charlie    92       89       94\n"
     ]
    }
   ],
   "source": [
    "import pandas as pd\n",
    "\n",
    "# Sample DataFrame\n",
    "data = {\n",
    "    'Name': ['Alice', 'Bob', 'Charlie'],\n",
    "    'Math': [85, 78, 92],\n",
    "    'Science': [90, 82, 89],\n",
    "    'English': [88, 85, 94]\n",
    "}\n",
    "\n",
    "df = pd.DataFrame(data)\n",
    "\n",
    "# Display the DataFrame\n",
    "print(df)\n"
   ]
  },
  {
   "cell_type": "markdown",
   "id": "caa1d8dd-f6ab-4849-b426-7ded8b8543db",
   "metadata": {},
   "source": [
    "# melt()"
   ]
  },
  {
   "cell_type": "code",
   "execution_count": 7,
   "id": "4f56bf1e-c425-47be-a652-0ed689bc57de",
   "metadata": {},
   "outputs": [
    {
     "data": {
      "text/html": [
       "<div>\n",
       "<style scoped>\n",
       "    .dataframe tbody tr th:only-of-type {\n",
       "        vertical-align: middle;\n",
       "    }\n",
       "\n",
       "    .dataframe tbody tr th {\n",
       "        vertical-align: top;\n",
       "    }\n",
       "\n",
       "    .dataframe thead th {\n",
       "        text-align: right;\n",
       "    }\n",
       "</style>\n",
       "<table border=\"1\" class=\"dataframe\">\n",
       "  <thead>\n",
       "    <tr style=\"text-align: right;\">\n",
       "      <th></th>\n",
       "      <th>Name</th>\n",
       "      <th>Subject</th>\n",
       "      <th>Score</th>\n",
       "    </tr>\n",
       "  </thead>\n",
       "  <tbody>\n",
       "    <tr>\n",
       "      <th>0</th>\n",
       "      <td>Alice</td>\n",
       "      <td>Math</td>\n",
       "      <td>85</td>\n",
       "    </tr>\n",
       "    <tr>\n",
       "      <th>1</th>\n",
       "      <td>Bob</td>\n",
       "      <td>Math</td>\n",
       "      <td>78</td>\n",
       "    </tr>\n",
       "    <tr>\n",
       "      <th>2</th>\n",
       "      <td>Charlie</td>\n",
       "      <td>Math</td>\n",
       "      <td>92</td>\n",
       "    </tr>\n",
       "    <tr>\n",
       "      <th>3</th>\n",
       "      <td>Alice</td>\n",
       "      <td>Science</td>\n",
       "      <td>90</td>\n",
       "    </tr>\n",
       "    <tr>\n",
       "      <th>4</th>\n",
       "      <td>Bob</td>\n",
       "      <td>Science</td>\n",
       "      <td>82</td>\n",
       "    </tr>\n",
       "    <tr>\n",
       "      <th>5</th>\n",
       "      <td>Charlie</td>\n",
       "      <td>Science</td>\n",
       "      <td>89</td>\n",
       "    </tr>\n",
       "    <tr>\n",
       "      <th>6</th>\n",
       "      <td>Alice</td>\n",
       "      <td>English</td>\n",
       "      <td>88</td>\n",
       "    </tr>\n",
       "    <tr>\n",
       "      <th>7</th>\n",
       "      <td>Bob</td>\n",
       "      <td>English</td>\n",
       "      <td>85</td>\n",
       "    </tr>\n",
       "    <tr>\n",
       "      <th>8</th>\n",
       "      <td>Charlie</td>\n",
       "      <td>English</td>\n",
       "      <td>94</td>\n",
       "    </tr>\n",
       "  </tbody>\n",
       "</table>\n",
       "</div>"
      ],
      "text/plain": [
       "      Name  Subject  Score\n",
       "0    Alice     Math     85\n",
       "1      Bob     Math     78\n",
       "2  Charlie     Math     92\n",
       "3    Alice  Science     90\n",
       "4      Bob  Science     82\n",
       "5  Charlie  Science     89\n",
       "6    Alice  English     88\n",
       "7      Bob  English     85\n",
       "8  Charlie  English     94"
      ]
     },
     "execution_count": 7,
     "metadata": {},
     "output_type": "execute_result"
    }
   ],
   "source": [
    "df2=df.melt(id_vars=[\"Name\"], value_vars=[\"Math\", \"Science\", \"English\"], var_name=\"Subject\", value_name=\"Score\")\n",
    "df2"
   ]
  },
  {
   "cell_type": "raw",
   "id": "5fa1f848-b84b-49f0-8f6e-9bc3bdbe1774",
   "metadata": {},
   "source": [
    "Explanation:\n",
    "id_vars=[\"Name\"]: We keep the \"Name\" column as it is because it's the identifier.\n",
    "value_vars=[\"Math\", \"Science\", \"English\"]: These are the columns we want to melt.\n",
    "var_name=\"Subject\": The new column containing the names of the subjects.\n",
    "value_name=\"Score\": The new column containing the scores.\n",
    "Why Use melt()?\n",
    "Data normalization: Helps in transforming data for statistical modeling and data visualization.\n",
    "Pivot tables: Many times, plotting functions or statistical models work better with long-format data.\n",
    "This is useful for converting columns into rows — perfect for plotting or tidy data formats."
   ]
  },
  {
   "cell_type": "markdown",
   "id": "57dd2877-c077-4054-b092-287810df411c",
   "metadata": {},
   "source": [
    "## melt() for wide to long"
   ]
  },
  {
   "cell_type": "markdown",
   "id": "fc5079e9-c3f6-42af-8258-76bb92382f08",
   "metadata": {},
   "source": [
    "# pivot()"
   ]
  },
  {
   "cell_type": "code",
   "execution_count": 8,
   "id": "88b551ef-a30b-4564-b33c-55e7b9e5fa37",
   "metadata": {},
   "outputs": [
    {
     "data": {
      "text/html": [
       "<div>\n",
       "<style scoped>\n",
       "    .dataframe tbody tr th:only-of-type {\n",
       "        vertical-align: middle;\n",
       "    }\n",
       "\n",
       "    .dataframe tbody tr th {\n",
       "        vertical-align: top;\n",
       "    }\n",
       "\n",
       "    .dataframe thead th {\n",
       "        text-align: right;\n",
       "    }\n",
       "</style>\n",
       "<table border=\"1\" class=\"dataframe\">\n",
       "  <thead>\n",
       "    <tr style=\"text-align: right;\">\n",
       "      <th>Subject</th>\n",
       "      <th>English</th>\n",
       "      <th>Math</th>\n",
       "      <th>Science</th>\n",
       "    </tr>\n",
       "    <tr>\n",
       "      <th>Name</th>\n",
       "      <th></th>\n",
       "      <th></th>\n",
       "      <th></th>\n",
       "    </tr>\n",
       "  </thead>\n",
       "  <tbody>\n",
       "    <tr>\n",
       "      <th>Alice</th>\n",
       "      <td>88</td>\n",
       "      <td>85</td>\n",
       "      <td>90</td>\n",
       "    </tr>\n",
       "    <tr>\n",
       "      <th>Bob</th>\n",
       "      <td>85</td>\n",
       "      <td>78</td>\n",
       "      <td>82</td>\n",
       "    </tr>\n",
       "    <tr>\n",
       "      <th>Charlie</th>\n",
       "      <td>94</td>\n",
       "      <td>92</td>\n",
       "      <td>89</td>\n",
       "    </tr>\n",
       "  </tbody>\n",
       "</table>\n",
       "</div>"
      ],
      "text/plain": [
       "Subject  English  Math  Science\n",
       "Name                           \n",
       "Alice         88    85       90\n",
       "Bob           85    78       82\n",
       "Charlie       94    92       89"
      ]
     },
     "execution_count": 8,
     "metadata": {},
     "output_type": "execute_result"
    }
   ],
   "source": [
    "df2.pivot(index=\"Name\", columns=\"Subject\", values=\"Score\")"
   ]
  },
  {
   "cell_type": "raw",
   "id": "286536d7-5f83-4134-aefa-29cf333f29c2",
   "metadata": {},
   "source": [
    "Parameters:\n",
    "index: The column whose unique values will become the rows of the new DataFrame.\n",
    "columns: The column whose unique values will become the columns of the new DataFrame.\n",
    "values: The column whose values will fill the new DataFrame. These will become the actual data (values in the table)."
   ]
  },
  {
   "cell_type": "markdown",
   "id": "b75fe7c4-c137-434d-847c-a9d1968d36af",
   "metadata": {},
   "source": [
    "## pivot() from long to wide"
   ]
  },
  {
   "cell_type": "raw",
   "id": "93ffefde-a746-4be8-a26b-423a92922d78",
   "metadata": {},
   "source": [
    "Important Notes:\n",
    "Duplicate Entries: If you have multiple rows with the same combination of index and columns, pivot() will raise an error. In such cases, you should use pivot_table() (which can handle duplicate entries by aggregating them).\n",
    "Example of pivot_table() to handle duplicates:\n",
    "Suppose the DataFrame is like this (with duplicate entries):\n",
    "\n",
    "Name\tSubject\tScore\n",
    "Alice\tMath\t85\n",
    "Alice\tMath\t80\n",
    "Alice\tScience\t90\n",
    "Bob\tMath\t78\n",
    "Bob\tMath\t82\n",
    "We can use pivot_table() to aggregate values (e.g., taking the mean for duplicate entries):\n",
    "\n",
    "df.pivot_table(index=\"Name\", columns=\"Subject\", values=\"Score\", aggfunc=\"mean\")\n",
    "\n",
    "Resulting DataFrame:\n",
    "Name\tMath\tScience\n",
    "Alice\t82.5\t90\n",
    "Bob\t80\tNaN\n",
    "In this case, the Math score for Alice is averaged (85 + 80) / 2 = 82.5. If a cell is empty, it means there was no value for that combination."
   ]
  }
 ],
 "metadata": {
  "kernelspec": {
   "display_name": "Python 3 (ipykernel)",
   "language": "python",
   "name": "python3"
  },
  "language_info": {
   "codemirror_mode": {
    "name": "ipython",
    "version": 3
   },
   "file_extension": ".py",
   "mimetype": "text/x-python",
   "name": "python",
   "nbconvert_exporter": "python",
   "pygments_lexer": "ipython3",
   "version": "3.13.5"
  }
 },
 "nbformat": 4,
 "nbformat_minor": 5
}
