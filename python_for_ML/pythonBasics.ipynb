{
 "cells": [
  {
   "cell_type": "code",
   "execution_count": 1,
   "id": "4e0cd7f6-6302-4cd7-9556-b71e3b5a1583",
   "metadata": {},
   "outputs": [],
   "source": [
    "a=10"
   ]
  },
  {
   "cell_type": "code",
   "execution_count": 2,
   "id": "271d2bb5-48be-4bdd-98f8-1d1ed8d5b843",
   "metadata": {},
   "outputs": [],
   "source": [
    "b=100"
   ]
  },
  {
   "cell_type": "code",
   "execution_count": 3,
   "id": "9f28a5a6-763e-43bd-974b-ad952a2cb829",
   "metadata": {},
   "outputs": [
    {
     "name": "stdout",
     "output_type": "stream",
     "text": [
      "110\n"
     ]
    }
   ],
   "source": [
    "print(a+b)"
   ]
  },
  {
   "cell_type": "code",
   "execution_count": 4,
   "id": "eb7525fd-0e91-4fb0-9c1f-5da45d4d0d01",
   "metadata": {},
   "outputs": [],
   "source": [
    "name=\"Poshya\""
   ]
  },
  {
   "cell_type": "code",
   "execution_count": 5,
   "id": "451055f4-7254-4d92-aab1-63834409eab0",
   "metadata": {},
   "outputs": [
    {
     "name": "stdout",
     "output_type": "stream",
     "text": [
      "Poshya\n"
     ]
    }
   ],
   "source": [
    "print(name)"
   ]
  },
  {
   "cell_type": "code",
   "execution_count": 6,
   "id": "f2633983-76f6-4f6e-8575-cb0ca8d9014a",
   "metadata": {},
   "outputs": [
    {
     "name": "stdout",
     "output_type": "stream",
     "text": [
      "Hello world\n"
     ]
    }
   ],
   "source": [
    "print(\"Hello world\")"
   ]
  },
  {
   "cell_type": "code",
   "execution_count": 7,
   "id": "e8cf291f-b297-42b0-a52d-81132dcf0554",
   "metadata": {},
   "outputs": [
    {
     "name": "stdout",
     "output_type": "stream",
     "text": [
      "<class 'int'>\n"
     ]
    }
   ],
   "source": [
    "print(type(a))"
   ]
  },
  {
   "cell_type": "code",
   "execution_count": 8,
   "id": "5e2bf0e5-1289-47f3-a366-3f89aa96c640",
   "metadata": {},
   "outputs": [
    {
     "name": "stdout",
     "output_type": "stream",
     "text": [
      "<class 'str'>\n"
     ]
    }
   ],
   "source": [
    "print(type(name))"
   ]
  },
  {
   "cell_type": "code",
   "execution_count": 9,
   "id": "5ba33887-1ba8-4bcc-ac58-a75045bfe15f",
   "metadata": {},
   "outputs": [],
   "source": [
    "hacked=True #We do not need to use print in jupyter notebook it automatically shows us the output"
   ]
  },
  {
   "cell_type": "code",
   "execution_count": 11,
   "id": "69e1af00-783e-4fac-8491-fa0102b21e6c",
   "metadata": {},
   "outputs": [
    {
     "data": {
      "text/plain": [
       "bool"
      ]
     },
     "execution_count": 11,
     "metadata": {},
     "output_type": "execute_result"
    }
   ],
   "source": [
    "type(hacked)"
   ]
  },
  {
   "cell_type": "code",
   "execution_count": 14,
   "id": "e1ac64c9-5c9e-43ee-a83c-a8e912eb4ee2",
   "metadata": {},
   "outputs": [],
   "source": [
    "c=\"99010\"\n",
    "d=\"101010221\""
   ]
  },
  {
   "cell_type": "code",
   "execution_count": 15,
   "id": "1dca3b48-ec89-4281-a817-2a1afa24074a",
   "metadata": {},
   "outputs": [
    {
     "data": {
      "text/plain": [
       "'99010101010221'"
      ]
     },
     "execution_count": 15,
     "metadata": {},
     "output_type": "execute_result"
    }
   ],
   "source": [
    "c+d"
   ]
  },
  {
   "cell_type": "code",
   "execution_count": 17,
   "id": "1128dcbb-6e83-4128-bc5e-e707e00616b4",
   "metadata": {},
   "outputs": [
    {
     "data": {
      "text/plain": [
       "101109231"
      ]
     },
     "execution_count": 17,
     "metadata": {},
     "output_type": "execute_result"
    }
   ],
   "source": [
    "int(c)+int(d) #Type casting"
   ]
  },
  {
   "cell_type": "code",
   "execution_count": null,
   "id": "43520dec-17ff-46b9-b4ea-54b6334ca0cf",
   "metadata": {},
   "outputs": [],
   "source": []
  }
 ],
 "metadata": {
  "kernelspec": {
   "display_name": "Python 3 (ipykernel)",
   "language": "python",
   "name": "python3"
  },
  "language_info": {
   "codemirror_mode": {
    "name": "ipython",
    "version": 3
   },
   "file_extension": ".py",
   "mimetype": "text/x-python",
   "name": "python",
   "nbconvert_exporter": "python",
   "pygments_lexer": "ipython3",
   "version": "3.13.5"
  }
 },
 "nbformat": 4,
 "nbformat_minor": 5
}
