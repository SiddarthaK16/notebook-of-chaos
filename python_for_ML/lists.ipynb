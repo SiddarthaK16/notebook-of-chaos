{
 "cells": [
  {
   "cell_type": "markdown",
   "id": "d7db8b7a-2152-4a6f-8117-0359f73150b1",
   "metadata": {},
   "source": [
    "### A list in Python is an ordered, mutable collection of elements. It can contain elements of different types."
   ]
  },
  {
   "cell_type": "code",
   "execution_count": 1,
   "id": "abe58484-ffd6-4415-8f9f-f9bb544661fc",
   "metadata": {},
   "outputs": [],
   "source": [
    "# Empty list\n",
    "my_list = []\n",
    "\n",
    "# List with elements\n",
    "numbers = [1, 2, 3, 4, 5]\n",
    "\n",
    "# Mixed data types\n",
    "mixed_list = [1, \"Hello\", 3.14, True]"
   ]
  },
  {
   "cell_type": "code",
   "execution_count": 2,
   "id": "cca36c7b-2bda-46be-9570-d6fa1ef42d62",
   "metadata": {},
   "outputs": [
    {
     "data": {
      "text/plain": [
       "4"
      ]
     },
     "execution_count": 2,
     "metadata": {},
     "output_type": "execute_result"
    }
   ],
   "source": [
    "numbers[3]"
   ]
  },
  {
   "cell_type": "code",
   "execution_count": 3,
   "id": "a2a937b9-114f-4e3b-9bcb-944b403873fe",
   "metadata": {},
   "outputs": [],
   "source": [
    "numbers[2]=10"
   ]
  },
  {
   "cell_type": "code",
   "execution_count": 4,
   "id": "41b768c5-36e4-48e1-bff1-236bdb4809a0",
   "metadata": {},
   "outputs": [
    {
     "data": {
      "text/plain": [
       "[1, 2, 10, 4, 5]"
      ]
     },
     "execution_count": 4,
     "metadata": {},
     "output_type": "execute_result"
    }
   ],
   "source": [
    "numbers"
   ]
  },
  {
   "cell_type": "markdown",
   "id": "792d4cfe-0bc0-46aa-88c1-f08fcf2300e4",
   "metadata": {},
   "source": [
    "# METHODS"
   ]
  },
  {
   "cell_type": "code",
   "execution_count": null,
   "id": "0bfd2f6f-7cdc-4016-9973-caeffd8602b9",
   "metadata": {},
   "outputs": [],
   "source": [
    "#String methods gave us new string but list methods will modify the original list"
   ]
  },
  {
   "cell_type": "code",
   "execution_count": 12,
   "id": "be2fb7ed-1db4-4575-81ce-f96f907e6ed9",
   "metadata": {},
   "outputs": [],
   "source": [
    "l1=[1,4,3,6,8,9]\n",
    "l2=[12,26,2,28]"
   ]
  },
  {
   "cell_type": "code",
   "execution_count": 11,
   "id": "e7f43597-d5ab-4d9e-ace6-5de7de36bd3d",
   "metadata": {},
   "outputs": [
    {
     "data": {
      "text/plain": [
       "[1, 4, 3, 6, 8, 9, 16]"
      ]
     },
     "execution_count": 11,
     "metadata": {},
     "output_type": "execute_result"
    }
   ],
   "source": [
    "l.append(16)\n",
    "l"
   ]
  },
  {
   "cell_type": "code",
   "execution_count": 16,
   "id": "d89ef0ad-0572-437e-a4a1-4b4f12911587",
   "metadata": {},
   "outputs": [
    {
     "data": {
      "text/plain": [
       "[1, 4, 3, 6, 8, 9, 12, 26, 2, 28, 12, 26, 2, 28, 12, 26, 2, 28]"
      ]
     },
     "execution_count": 16,
     "metadata": {},
     "output_type": "execute_result"
    }
   ],
   "source": [
    "l1.extend(l2)  #kinda adds l2 to l1\n",
    "l1"
   ]
  },
  {
   "cell_type": "code",
   "execution_count": 17,
   "id": "578737be-fb38-4fed-b2c2-2a713a6dd39d",
   "metadata": {},
   "outputs": [
    {
     "data": {
      "text/plain": [
       "[1, 4, 3, 6, 8, 69, 9, 12, 26, 2, 28, 12, 26, 2, 28, 12, 26, 2, 28]"
      ]
     },
     "execution_count": 17,
     "metadata": {},
     "output_type": "execute_result"
    }
   ],
   "source": [
    "l1.insert(5,69) #adds 69 at 5th index\n",
    "l1"
   ]
  },
  {
   "cell_type": "code",
   "execution_count": 18,
   "id": "0d15ad3e-6119-4d48-89d6-6f04967a9a03",
   "metadata": {},
   "outputs": [
    {
     "data": {
      "text/plain": [
       "[1, 4, 3, 6, 8, 69, 9, 26, 2, 28, 12, 26, 2, 28, 12, 26, 2, 28]"
      ]
     },
     "execution_count": 18,
     "metadata": {},
     "output_type": "execute_result"
    }
   ],
   "source": [
    "l1.remove(12)  #removes first occurance of 12\n",
    "l1"
   ]
  },
  {
   "cell_type": "code",
   "execution_count": 19,
   "id": "488bdd6c-ebaf-4bfe-bec9-71fbeac610e4",
   "metadata": {},
   "outputs": [
    {
     "data": {
      "text/plain": [
       "6"
      ]
     },
     "execution_count": 19,
     "metadata": {},
     "output_type": "execute_result"
    }
   ],
   "source": [
    "l1.pop(3) #removes and returns value at index 3"
   ]
  },
  {
   "cell_type": "code",
   "execution_count": 20,
   "id": "1bbbfb26-7815-4f49-80e3-f09124a60ec7",
   "metadata": {},
   "outputs": [
    {
     "data": {
      "text/plain": [
       "[1, 4, 3, 8, 69, 9, 26, 2, 28, 12, 26, 2, 28, 12, 26, 2, 28]"
      ]
     },
     "execution_count": 20,
     "metadata": {},
     "output_type": "execute_result"
    }
   ],
   "source": [
    "l1"
   ]
  },
  {
   "cell_type": "code",
   "execution_count": 21,
   "id": "776ae8d4-f79a-4662-9740-8d040966584a",
   "metadata": {},
   "outputs": [
    {
     "data": {
      "text/plain": [
       "4"
      ]
     },
     "execution_count": 21,
     "metadata": {},
     "output_type": "execute_result"
    }
   ],
   "source": [
    "l1.index(69)  #returns index of 69"
   ]
  },
  {
   "cell_type": "code",
   "execution_count": 22,
   "id": "617ee3e2-4e42-429e-a666-a8edd7293af9",
   "metadata": {},
   "outputs": [
    {
     "data": {
      "text/plain": [
       "2"
      ]
     },
     "execution_count": 22,
     "metadata": {},
     "output_type": "execute_result"
    }
   ],
   "source": [
    "l1.count(12)  #counts occurances of 12"
   ]
  },
  {
   "cell_type": "code",
   "execution_count": 24,
   "id": "491b92c2-89af-4f07-a47d-846d3b398a43",
   "metadata": {},
   "outputs": [
    {
     "data": {
      "text/plain": [
       "[1, 2, 2, 2, 3, 4, 8, 9, 12, 12, 26, 26, 26, 28, 28, 28, 69]"
      ]
     },
     "execution_count": 24,
     "metadata": {},
     "output_type": "execute_result"
    }
   ],
   "source": [
    "l1.sort()  #sorts l1 in ascending order\n",
    "l1"
   ]
  },
  {
   "cell_type": "code",
   "execution_count": 25,
   "id": "660d0718-5dff-4626-ab82-9978410c83c0",
   "metadata": {},
   "outputs": [
    {
     "data": {
      "text/plain": [
       "[69, 28, 28, 28, 26, 26, 26, 12, 12, 9, 8, 4, 3, 2, 2, 2, 1]"
      ]
     },
     "execution_count": 25,
     "metadata": {},
     "output_type": "execute_result"
    }
   ],
   "source": [
    "l1.reverse() #sorts l1 in descending order\n",
    "l1"
   ]
  },
  {
   "cell_type": "code",
   "execution_count": 26,
   "id": "aa006dd0-7f79-4405-9403-8af0c60bb540",
   "metadata": {},
   "outputs": [],
   "source": [
    "l3=l1.copy()"
   ]
  },
  {
   "cell_type": "code",
   "execution_count": 27,
   "id": "fdeaaca4-21e0-49e9-b6d7-d389e658ff16",
   "metadata": {},
   "outputs": [
    {
     "data": {
      "text/plain": [
       "[69, 28, 28, 28, 26, 26, 26, 12, 12, 9, 8, 4, 3, 2, 2, 2, 1]"
      ]
     },
     "execution_count": 27,
     "metadata": {},
     "output_type": "execute_result"
    }
   ],
   "source": [
    "l3"
   ]
  },
  {
   "cell_type": "code",
   "execution_count": 29,
   "id": "81fc3c66-5ff2-46b3-889e-1f600175e962",
   "metadata": {},
   "outputs": [
    {
     "data": {
      "text/plain": [
       "[]"
      ]
     },
     "execution_count": 29,
     "metadata": {},
     "output_type": "execute_result"
    }
   ],
   "source": [
    "l2.clear()\n",
    "l2"
   ]
  },
  {
   "cell_type": "code",
   "execution_count": 30,
   "id": "d9a166e8-a5e7-4cd4-848f-08e829dcb674",
   "metadata": {},
   "outputs": [],
   "source": [
    "me=[4,9,0,7,98,887]"
   ]
  },
  {
   "cell_type": "code",
   "execution_count": 33,
   "id": "ad4a9ed0-dd78-476e-b55e-957f632d690e",
   "metadata": {},
   "outputs": [
    {
     "data": {
      "text/plain": [
       "[0, 4, 7, 9, 98, 887]"
      ]
     },
     "execution_count": 33,
     "metadata": {},
     "output_type": "execute_result"
    }
   ],
   "source": [
    "sorted(me) #returns a new list whiich is nothing but sorted version of me , it does not change original list"
   ]
  },
  {
   "cell_type": "code",
   "execution_count": 32,
   "id": "655e62de-374b-46ea-aa48-903437ac3ad6",
   "metadata": {},
   "outputs": [
    {
     "data": {
      "text/plain": [
       "[4, 9, 0, 7, 98, 887]"
      ]
     },
     "execution_count": 32,
     "metadata": {},
     "output_type": "execute_result"
    }
   ],
   "source": [
    "me"
   ]
  },
  {
   "cell_type": "markdown",
   "id": "a87d800e-0009-4645-a3cc-fb82cdba3f56",
   "metadata": {},
   "source": [
    "## IF IT IS LISTNAME.SOMEMETHOD IT CHANGES ORIGINAL LIST BUT NORMALLY LIKE SORTED RETURNS A NEW LIST"
   ]
  },
  {
   "cell_type": "code",
   "execution_count": 34,
   "id": "b89759f8-4b2f-4b0b-8dc9-9c1974cca3fa",
   "metadata": {},
   "outputs": [],
   "source": [
    "y=[2,4,5,6,[6,5,6,0]]"
   ]
  },
  {
   "cell_type": "code",
   "execution_count": 35,
   "id": "55d4f5d4-0d44-4c9e-a793-fec3735c8388",
   "metadata": {},
   "outputs": [
    {
     "data": {
      "text/plain": [
       "[2, 4, 5, 6, [6, 5, 6, 0]]"
      ]
     },
     "execution_count": 35,
     "metadata": {},
     "output_type": "execute_result"
    }
   ],
   "source": [
    "y"
   ]
  },
  {
   "cell_type": "code",
   "execution_count": 36,
   "id": "08c9fba6-6816-49ae-b247-76b48d30a8a0",
   "metadata": {},
   "outputs": [
    {
     "data": {
      "text/plain": [
       "6"
      ]
     },
     "execution_count": 36,
     "metadata": {},
     "output_type": "execute_result"
    }
   ],
   "source": [
    "y[4][2]"
   ]
  },
  {
   "cell_type": "code",
   "execution_count": 37,
   "id": "492e1a38-87c6-4f6f-9dfb-7ba4db194d9c",
   "metadata": {},
   "outputs": [
    {
     "data": {
      "text/plain": [
       "[69, 28, 28, 28, 26, 26, 26, 12, 12, 9, 8, 4, 3, 2, 2, 2, 1]"
      ]
     },
     "execution_count": 37,
     "metadata": {},
     "output_type": "execute_result"
    }
   ],
   "source": [
    "l1+l2"
   ]
  },
  {
   "cell_type": "code",
   "execution_count": 38,
   "id": "d0df3cc5-89ab-4ad9-9d0a-c4cbac299cdc",
   "metadata": {},
   "outputs": [
    {
     "data": {
      "text/plain": [
       "True"
      ]
     },
     "execution_count": 38,
     "metadata": {},
     "output_type": "execute_result"
    }
   ],
   "source": [
    "6 in y"
   ]
  },
  {
   "cell_type": "code",
   "execution_count": null,
   "id": "7b7a3db7-62cd-4aca-bde7-ff58a92a0fc8",
   "metadata": {},
   "outputs": [],
   "source": []
  }
 ],
 "metadata": {
  "kernelspec": {
   "display_name": "Python 3 (ipykernel)",
   "language": "python",
   "name": "python3"
  },
  "language_info": {
   "codemirror_mode": {
    "name": "ipython",
    "version": 3
   },
   "file_extension": ".py",
   "mimetype": "text/x-python",
   "name": "python",
   "nbconvert_exporter": "python",
   "pygments_lexer": "ipython3",
   "version": "3.13.5"
  }
 },
 "nbformat": 4,
 "nbformat_minor": 5
}
