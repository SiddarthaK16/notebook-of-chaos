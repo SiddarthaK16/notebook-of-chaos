{
 "cells": [
  {
   "cell_type": "markdown",
   "id": "a0f95545-22a4-4160-8dcb-257295e36885",
   "metadata": {},
   "source": [
    "# ARITHMETIC OPERATORS"
   ]
  },
  {
   "cell_type": "code",
   "execution_count": 1,
   "id": "34b37639-31c9-4d8f-a032-b3868cffee77",
   "metadata": {},
   "outputs": [],
   "source": [
    "a=20\n",
    "b=10"
   ]
  },
  {
   "cell_type": "code",
   "execution_count": 2,
   "id": "c01fe697-4b77-41ca-8ff3-170d00d8068a",
   "metadata": {},
   "outputs": [
    {
     "data": {
      "text/plain": [
       "30"
      ]
     },
     "execution_count": 2,
     "metadata": {},
     "output_type": "execute_result"
    }
   ],
   "source": [
    "a+b"
   ]
  },
  {
   "cell_type": "code",
   "execution_count": 3,
   "id": "98ffeb6a-34d8-4871-a738-9a0b3b91cd4b",
   "metadata": {},
   "outputs": [
    {
     "data": {
      "text/plain": [
       "10"
      ]
     },
     "execution_count": 3,
     "metadata": {},
     "output_type": "execute_result"
    }
   ],
   "source": [
    "a-b"
   ]
  },
  {
   "cell_type": "code",
   "execution_count": 4,
   "id": "cbda49d3-3249-4b09-8498-04d0a8cbd1e3",
   "metadata": {},
   "outputs": [
    {
     "data": {
      "text/plain": [
       "200"
      ]
     },
     "execution_count": 4,
     "metadata": {},
     "output_type": "execute_result"
    }
   ],
   "source": [
    "a*b"
   ]
  },
  {
   "cell_type": "code",
   "execution_count": 8,
   "id": "d3b57fb3-d55d-45c5-b297-5aea0ce0b28c",
   "metadata": {},
   "outputs": [
    {
     "name": "stdout",
     "output_type": "stream",
     "text": [
      "2.0\n",
      "2\n"
     ]
    }
   ],
   "source": [
    "print(a/b)\n",
    "print(a//b)\n",
    "#/  → always gives float\n",
    "#// → gives floor division (integer if both operands are ints)"
   ]
  },
  {
   "cell_type": "code",
   "execution_count": 9,
   "id": "77d777c9-6d3e-4e76-ad3c-06c8a6427c03",
   "metadata": {},
   "outputs": [
    {
     "data": {
      "text/plain": [
       "0"
      ]
     },
     "execution_count": 9,
     "metadata": {},
     "output_type": "execute_result"
    }
   ],
   "source": [
    "a%b"
   ]
  },
  {
   "cell_type": "code",
   "execution_count": 12,
   "id": "19b6a5e0-74de-43d3-80b4-41e5f9c8c062",
   "metadata": {},
   "outputs": [
    {
     "name": "stdout",
     "output_type": "stream",
     "text": [
      "10240000000000\n",
      "10240000000000\n"
     ]
    }
   ],
   "source": [
    "print(a**b) #a power b\n",
    "print(pow(a,b))"
   ]
  },
  {
   "cell_type": "markdown",
   "id": "dff4beea-e275-4e04-a929-34d6218a47b9",
   "metadata": {},
   "source": [
    "# COMPARISON OPERATORS"
   ]
  },
  {
   "cell_type": "code",
   "execution_count": 13,
   "id": "b31157fb-0222-4cce-a43f-f1729f3761ce",
   "metadata": {},
   "outputs": [
    {
     "data": {
      "text/plain": [
       "False"
      ]
     },
     "execution_count": 13,
     "metadata": {},
     "output_type": "execute_result"
    }
   ],
   "source": [
    "a==b"
   ]
  },
  {
   "cell_type": "code",
   "execution_count": 14,
   "id": "e12c09a1-42c6-4d8a-a82d-2db02c815752",
   "metadata": {},
   "outputs": [
    {
     "data": {
      "text/plain": [
       "True"
      ]
     },
     "execution_count": 14,
     "metadata": {},
     "output_type": "execute_result"
    }
   ],
   "source": [
    "a>=b"
   ]
  },
  {
   "cell_type": "code",
   "execution_count": 15,
   "id": "fe1877fe-551b-48dc-b116-0b7db03df14e",
   "metadata": {},
   "outputs": [
    {
     "data": {
      "text/plain": [
       "False"
      ]
     },
     "execution_count": 15,
     "metadata": {},
     "output_type": "execute_result"
    }
   ],
   "source": [
    "a<=b"
   ]
  },
  {
   "cell_type": "code",
   "execution_count": 16,
   "id": "59db1aa2-921b-4699-91f5-f077d17c3a1a",
   "metadata": {},
   "outputs": [
    {
     "data": {
      "text/plain": [
       "True"
      ]
     },
     "execution_count": 16,
     "metadata": {},
     "output_type": "execute_result"
    }
   ],
   "source": [
    "a!=b"
   ]
  },
  {
   "cell_type": "code",
   "execution_count": 17,
   "id": "8750eb0c-9976-498c-a5e4-4379e319d75e",
   "metadata": {},
   "outputs": [
    {
     "data": {
      "text/plain": [
       "True"
      ]
     },
     "execution_count": 17,
     "metadata": {},
     "output_type": "execute_result"
    }
   ],
   "source": [
    "a>b"
   ]
  },
  {
   "cell_type": "code",
   "execution_count": 18,
   "id": "08632da4-bf96-4665-8c4b-d03f6c72483e",
   "metadata": {},
   "outputs": [
    {
     "data": {
      "text/plain": [
       "False"
      ]
     },
     "execution_count": 18,
     "metadata": {},
     "output_type": "execute_result"
    }
   ],
   "source": [
    "a<b"
   ]
  },
  {
   "cell_type": "markdown",
   "id": "d559d1b3-7780-410b-b62d-6e9856941379",
   "metadata": {},
   "source": [
    "# LOGICAL OPERATORS"
   ]
  },
  {
   "cell_type": "code",
   "execution_count": 19,
   "id": "d74e6123-c2a0-46bc-97f0-8279b64e20e0",
   "metadata": {},
   "outputs": [
    {
     "data": {
      "text/plain": [
       "True"
      ]
     },
     "execution_count": 19,
     "metadata": {},
     "output_type": "execute_result"
    }
   ],
   "source": [
    "a>=b and a!=b"
   ]
  },
  {
   "cell_type": "code",
   "execution_count": 20,
   "id": "21bf3569-4c07-4022-a9b9-3fb08a3401f4",
   "metadata": {},
   "outputs": [
    {
     "data": {
      "text/plain": [
       "True"
      ]
     },
     "execution_count": 20,
     "metadata": {},
     "output_type": "execute_result"
    }
   ],
   "source": [
    "a>=b or a<=b"
   ]
  },
  {
   "cell_type": "code",
   "execution_count": 23,
   "id": "a28b2dc6-c896-4254-8a1f-96a7002bd164",
   "metadata": {},
   "outputs": [
    {
     "data": {
      "text/plain": [
       "True"
      ]
     },
     "execution_count": 23,
     "metadata": {},
     "output_type": "execute_result"
    }
   ],
   "source": [
    "not (a==b)"
   ]
  },
  {
   "cell_type": "markdown",
   "id": "ec14461a-83c4-45e9-9811-5e4c9ddeb442",
   "metadata": {},
   "source": [
    "# BITWISE OPERATORS"
   ]
  },
  {
   "cell_type": "code",
   "execution_count": null,
   "id": "ffd1469c-9303-4f87-b7f7-89e4556ab7da",
   "metadata": {},
   "outputs": [],
   "source": [
    "#Converts numbers into binary and then operate on it"
   ]
  },
  {
   "cell_type": "code",
   "execution_count": 25,
   "id": "34ccd18d-9c0f-4475-807a-5adcc910a27b",
   "metadata": {},
   "outputs": [
    {
     "data": {
      "text/plain": [
       "0"
      ]
     },
     "execution_count": 25,
     "metadata": {},
     "output_type": "execute_result"
    }
   ],
   "source": [
    "a&b  #Bitwisw and operator"
   ]
  },
  {
   "cell_type": "code",
   "execution_count": 26,
   "id": "67de17e7-0a1a-4a8d-805e-e2ca0fde9f04",
   "metadata": {},
   "outputs": [
    {
     "data": {
      "text/plain": [
       "30"
      ]
     },
     "execution_count": 26,
     "metadata": {},
     "output_type": "execute_result"
    }
   ],
   "source": [
    "a | b  #Bitwise or operator"
   ]
  },
  {
   "cell_type": "markdown",
   "id": "3f9d83be-5d81-401c-8a2e-7e916e5a6be1",
   "metadata": {},
   "source": [
    "# ASSIGNMENT OPERATORS"
   ]
  },
  {
   "cell_type": "code",
   "execution_count": 34,
   "id": "5238a544-bad7-4eb6-b46f-a7b2bbc991e7",
   "metadata": {},
   "outputs": [],
   "source": [
    "s=67\n",
    "s+=8 #s=s+8"
   ]
  },
  {
   "cell_type": "code",
   "execution_count": 35,
   "id": "576fe3f2-f689-4c66-86cc-72924e7f7633",
   "metadata": {},
   "outputs": [
    {
     "data": {
      "text/plain": [
       "75"
      ]
     },
     "execution_count": 35,
     "metadata": {},
     "output_type": "execute_result"
    }
   ],
   "source": [
    "s"
   ]
  },
  {
   "cell_type": "code",
   "execution_count": 40,
   "id": "86b9c3fd-b885-44a6-8ac3-59626dd074a7",
   "metadata": {},
   "outputs": [],
   "source": [
    "s-=8 #s=s-8\n"
   ]
  },
  {
   "cell_type": "code",
   "execution_count": 41,
   "id": "fb823710-7925-4890-a0d1-a84aaebf37df",
   "metadata": {},
   "outputs": [
    {
     "data": {
      "text/plain": [
       "67"
      ]
     },
     "execution_count": 41,
     "metadata": {},
     "output_type": "execute_result"
    }
   ],
   "source": [
    "s"
   ]
  },
  {
   "cell_type": "code",
   "execution_count": 42,
   "id": "836d088b-c1b7-472b-898e-ffdbb05dcb5b",
   "metadata": {},
   "outputs": [],
   "source": [
    "s*=10 #s=s*10"
   ]
  },
  {
   "cell_type": "code",
   "execution_count": 43,
   "id": "c7df47d4-523b-4431-a1a3-aa725fe69153",
   "metadata": {},
   "outputs": [
    {
     "data": {
      "text/plain": [
       "670"
      ]
     },
     "execution_count": 43,
     "metadata": {},
     "output_type": "execute_result"
    }
   ],
   "source": [
    "s"
   ]
  },
  {
   "cell_type": "code",
   "execution_count": 44,
   "id": "dc39548f-e356-4abc-b5e2-df9d15988ce2",
   "metadata": {},
   "outputs": [],
   "source": [
    "s/=2 #s=s/2"
   ]
  },
  {
   "cell_type": "code",
   "execution_count": 45,
   "id": "4c7a772d-873f-4e3f-a529-46c65872beb1",
   "metadata": {},
   "outputs": [
    {
     "data": {
      "text/plain": [
       "335.0"
      ]
     },
     "execution_count": 45,
     "metadata": {},
     "output_type": "execute_result"
    }
   ],
   "source": [
    "s"
   ]
  },
  {
   "cell_type": "markdown",
   "id": "2af587b2-6a46-42d9-9653-8ca3153e37bc",
   "metadata": {},
   "source": [
    "# OPERATOR PRECENDENCE"
   ]
  },
  {
   "cell_type": "raw",
   "id": "d8f1ac38-e128-40ac-90d7-dd09b62ef8ef",
   "metadata": {},
   "source": [
    "Python follows PEMDAS (Parentheses, Exponents, Multiplication/Division, Addition/Subtraction). The order of operations in Python is:\n",
    "\n",
    "Parentheses () – Highest precedence, operations inside parentheses are evaluated first.\n",
    "Exponents ** – Power calculations (e.g., 2 ** 3 → 8).\n",
    "Multiplication *, Division /, Floor Division //, Modulus % – Evaluated from left to right.\n",
    "Addition +, Subtraction - – Evaluated from left to right."
   ]
  },
  {
   "cell_type": "code",
   "execution_count": 47,
   "id": "f764ef22-84e1-4d9d-97f8-39b25246f41c",
   "metadata": {},
   "outputs": [
    {
     "data": {
      "text/plain": [
       "-8"
      ]
     },
     "execution_count": 47,
     "metadata": {},
     "output_type": "execute_result"
    }
   ],
   "source": [
    "20+2-3*10"
   ]
  },
  {
   "cell_type": "code",
   "execution_count": 48,
   "id": "66ec6217-c512-48df-9309-97b5cc99d584",
   "metadata": {},
   "outputs": [
    {
     "name": "stdout",
     "output_type": "stream",
     "text": [
      "16\n",
      "36\n",
      "512\n"
     ]
    }
   ],
   "source": [
    "result = 10 + 2 * 3  # Multiplication happens first: 10 + (2 * 3) = 16\n",
    "print(result)\n",
    "\n",
    "result = (10 + 2) * 3  # Parentheses first: (10 + 2) * 3 = 36\n",
    "print(result)\n",
    "\n",
    "result = 2 ** 3 ** 2  # Right-to-left exponentiation: 2 ** (3 ** 2) = 2 ** 9 = 512\n",
    "print(result)"
   ]
  },
  {
   "cell_type": "code",
   "execution_count": null,
   "id": "e6eb5ec1-f671-41b4-91fb-561a8ae617e1",
   "metadata": {},
   "outputs": [],
   "source": []
  }
 ],
 "metadata": {
  "kernelspec": {
   "display_name": "Python 3 (ipykernel)",
   "language": "python",
   "name": "python3"
  },
  "language_info": {
   "codemirror_mode": {
    "name": "ipython",
    "version": 3
   },
   "file_extension": ".py",
   "mimetype": "text/x-python",
   "name": "python",
   "nbconvert_exporter": "python",
   "pygments_lexer": "ipython3",
   "version": "3.13.5"
  }
 },
 "nbformat": 4,
 "nbformat_minor": 5
}
