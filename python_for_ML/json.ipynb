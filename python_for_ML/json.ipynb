{
 "cells": [
  {
   "cell_type": "code",
   "execution_count": 1,
   "id": "ec0e6fc7-f7b5-4a99-af39-0f4c650ed363",
   "metadata": {},
   "outputs": [],
   "source": [
    "import json"
   ]
  },
  {
   "cell_type": "code",
   "execution_count": 2,
   "id": "e8bceee6-e553-4ab3-a4d7-97c0fbae577b",
   "metadata": {},
   "outputs": [
    {
     "name": "stdout",
     "output_type": "stream",
     "text": [
      "<class 'str'>\n",
      "{\"name\": \"Alice\", \"age\": 25, \"city\": \"New York\"}\n"
     ]
    }
   ],
   "source": [
    "#(Serialization)\n",
    "obj = {\"name\": \"Alice\", \"age\": 25, \"city\": \"New York\"}\n",
    "s=json.dumps(obj)  #Convert Python object to JSON string\n",
    "print(type(s))\n",
    "print(s)"
   ]
  },
  {
   "cell_type": "code",
   "execution_count": 3,
   "id": "d0091500-af35-4167-8720-06dcd32d41fb",
   "metadata": {},
   "outputs": [
    {
     "name": "stdout",
     "output_type": "stream",
     "text": [
      "<class 'dict'>\n",
      "{'name': 'Alice', 'age': 25, 'city': 'New York'}\n"
     ]
    }
   ],
   "source": [
    "#(Deserialization)\n",
    "p=json.loads('{\"name\": \"Alice\", \"age\": 25, \"city\": \"New York\"}') #Convert JSON string to Python object\n",
    "print(type(p))\n",
    "print(p)"
   ]
  },
  {
   "cell_type": "code",
   "execution_count": 4,
   "id": "2f755262-b3f0-4eb2-a6f2-fcd38b38f260",
   "metadata": {},
   "outputs": [],
   "source": [
    "file=open(\"data.json\",\"w\")"
   ]
  },
  {
   "cell_type": "code",
   "execution_count": 5,
   "id": "3b97f356-786c-40eb-a875-9ef08ef79b3a",
   "metadata": {},
   "outputs": [],
   "source": [
    "json.dump(obj,file) # Write JSON data to a file"
   ]
  },
  {
   "cell_type": "code",
   "execution_count": 6,
   "id": "80dfcff4-a76d-4a27-8f97-1836cfff1636",
   "metadata": {},
   "outputs": [],
   "source": [
    "file.close()"
   ]
  },
  {
   "cell_type": "code",
   "execution_count": 7,
   "id": "b7aa7cf6-d414-4f3b-ade4-d52015286ff7",
   "metadata": {},
   "outputs": [],
   "source": [
    "file=open(\"data.json\",\"r\")"
   ]
  },
  {
   "cell_type": "code",
   "execution_count": 8,
   "id": "d1ded480-48cc-4277-84e9-92b3ab8ba324",
   "metadata": {},
   "outputs": [
    {
     "name": "stdout",
     "output_type": "stream",
     "text": [
      "{'name': 'Alice', 'age': 25, 'city': 'New York'}\n"
     ]
    }
   ],
   "source": [
    "print(json.load(file))  #Read JSON data from a file"
   ]
  },
  {
   "cell_type": "code",
   "execution_count": 9,
   "id": "dca83f93-224c-4cc7-bcdd-e3b08cda6f2d",
   "metadata": {},
   "outputs": [],
   "source": [
    "file.close()"
   ]
  },
  {
   "cell_type": "code",
   "execution_count": 15,
   "id": "e0dd3102-2e7b-4542-86b5-efe9a6eb0016",
   "metadata": {},
   "outputs": [
    {
     "name": "stdout",
     "output_type": "stream",
     "text": [
      "{\n",
      "                \"name\": \"Alice\",\n",
      "                \"age\": 25,\n",
      "                \"city\": \"New York\"\n",
      "}\n"
     ]
    }
   ],
   "source": [
    "indented_data=json.dumps(obj,indent=16)\n",
    "print(indented_data)"
   ]
  },
  {
   "cell_type": "code",
   "execution_count": null,
   "id": "01f29051-201b-4685-89b8-7a880a959b78",
   "metadata": {},
   "outputs": [],
   "source": []
  }
 ],
 "metadata": {
  "kernelspec": {
   "display_name": "Python 3 (ipykernel)",
   "language": "python",
   "name": "python3"
  },
  "language_info": {
   "codemirror_mode": {
    "name": "ipython",
    "version": 3
   },
   "file_extension": ".py",
   "mimetype": "text/x-python",
   "name": "python",
   "nbconvert_exporter": "python",
   "pygments_lexer": "ipython3",
   "version": "3.13.5"
  }
 },
 "nbformat": 4,
 "nbformat_minor": 5
}
