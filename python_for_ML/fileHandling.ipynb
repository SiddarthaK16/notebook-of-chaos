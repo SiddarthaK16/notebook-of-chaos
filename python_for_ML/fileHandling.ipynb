{
 "cells": [
  {
   "cell_type": "markdown",
   "id": "59c7dc06-5e60-44c8-8e7b-68fcf1848850",
   "metadata": {},
   "source": [
    "### File handling allows Python programs to read, write, and manipulate files stored on disk. Python provides built-in functions for working with files."
   ]
  },
  {
   "cell_type": "raw",
   "id": "bcb2835c-90ee-45e7-8b78-08c82753ada6",
   "metadata": {},
   "source": [
    "\n",
    "'r'\tRead (default) – Opens file for reading, raises an error if file does not exist.\n",
    "'w'\tWrite – Opens file for writing, creates a new file if not found, and overwrites existing content.\n",
    "'a'\tAppend – Opens file for writing, creates a new file if not found, and appends content instead of overwriting.\n",
    "'x'\tCreate – Creates a new file, but fails if the file already exists.\n",
    "'b'\tBinary mode – Used with rb, wb, ab, etc., for working with non-text files (e.g., images, PDFs).\n",
    "'t'\tText mode (default) – Used for text files (e.g., rt, wt)."
   ]
  },
  {
   "cell_type": "code",
   "execution_count": 3,
   "id": "2079fbc1-d9d4-403b-a9e0-e5cdccebe975",
   "metadata": {},
   "outputs": [],
   "source": [
    "f=open(\"text.txt\",\"r)"
   ]
  },
  {
   "cell_type": "code",
   "execution_count": 2,
   "id": "a1fc4204-71c6-4545-bd7a-c51863a70886",
   "metadata": {},
   "outputs": [
    {
     "data": {
      "text/plain": [
       "'I am currently chilling in my room.'"
      ]
     },
     "execution_count": 2,
     "metadata": {},
     "output_type": "execute_result"
    }
   ],
   "source": [
    "f.read()  "
   ]
  },
  {
   "cell_type": "code",
   "execution_count": 9,
   "id": "d32f70aa-85ca-477c-8b0a-5109d9a849be",
   "metadata": {},
   "outputs": [],
   "source": [
    "f.close()"
   ]
  },
  {
   "cell_type": "code",
   "execution_count": 12,
   "id": "98c84d2d-c894-4772-8ad2-5f803219e5be",
   "metadata": {},
   "outputs": [],
   "source": [
    "f=open(\"hello.txt\",\"w\")"
   ]
  },
  {
   "cell_type": "code",
   "execution_count": 15,
   "id": "465ea23e-0a38-4207-831e-dd018dcd7098",
   "metadata": {},
   "outputs": [
    {
     "data": {
      "text/plain": [
       "17"
      ]
     },
     "execution_count": 15,
     "metadata": {},
     "output_type": "execute_result"
    }
   ],
   "source": [
    "s=\"I have work to do\"\n",
    "f.write(s)"
   ]
  },
  {
   "cell_type": "code",
   "execution_count": 16,
   "id": "ecaa738e-b9d8-4a9d-a796-8324b663d5de",
   "metadata": {},
   "outputs": [],
   "source": [
    "f.close()"
   ]
  },
  {
   "cell_type": "markdown",
   "id": "1d470724-2d29-4f17-9487-912ff1c27730",
   "metadata": {},
   "source": [
    "# READING"
   ]
  },
  {
   "cell_type": "code",
   "execution_count": 18,
   "id": "72218df9-006b-44d8-9bad-7ee16ca72d6e",
   "metadata": {},
   "outputs": [
    {
     "name": "stdout",
     "output_type": "stream",
     "text": [
      "But has lot of work\n",
      "hehe who cares\n",
      "i do\n",
      "shut jup\n"
     ]
    },
    {
     "data": {
      "text/plain": [
       "<function TextIOWrapper.close()>"
      ]
     },
     "execution_count": 18,
     "metadata": {},
     "output_type": "execute_result"
    }
   ],
   "source": [
    "f=open(\"text.txt\",\"r\")\n",
    "content=f.read()\n",
    "print(content)\n",
    "f.close"
   ]
  },
  {
   "cell_type": "code",
   "execution_count": 30,
   "id": "cacb2431-2b08-4372-8847-107f3a90d742",
   "metadata": {},
   "outputs": [
    {
     "name": "stdout",
     "output_type": "stream",
     "text": [
      "But has lot of work\n",
      "hehe who cares\n",
      "i do\n",
      "shut jup"
     ]
    }
   ],
   "source": [
    "file = open(\"text.txt\", \"r\")\n",
    "\n",
    "line = file.readline()\n",
    "while line:  # keep going until line is empty\n",
    "    print(line, end='')  # end='' avoids double newlines\n",
    "    line = file.readline()\n",
    "\n",
    "file.close()\n"
   ]
  },
  {
   "cell_type": "code",
   "execution_count": 22,
   "id": "b0939013-be7e-4aa1-b272-83dcad73e1b1",
   "metadata": {},
   "outputs": [
    {
     "name": "stdout",
     "output_type": "stream",
     "text": [
      "['But has lot of work\\n', 'hehe who cares\\n', 'i do\\n', 'shut jup']\n"
     ]
    }
   ],
   "source": [
    "file = open(\"text.txt\", \"r\")\n",
    "lines = file.readlines()  # Reads all lines into a list\n",
    "print(lines)\n",
    "file.close()"
   ]
  },
  {
   "cell_type": "markdown",
   "id": "31168aed-20f1-4397-a18b-0f0c6cc5ba4c",
   "metadata": {},
   "source": [
    "# WRITING"
   ]
  },
  {
   "cell_type": "code",
   "execution_count": 23,
   "id": "07d01b28-ccb3-4160-bda7-17459a34fdc0",
   "metadata": {},
   "outputs": [],
   "source": [
    "file = open(\"example.txt\", \"w\")  # Opens file in write mode\n",
    "file.write(\"Hello, World!\")  # Writes content\n",
    "file.close()"
   ]
  },
  {
   "cell_type": "code",
   "execution_count": 24,
   "id": "cc75a12f-5285-4570-8ffd-f8b0a31ba32f",
   "metadata": {},
   "outputs": [],
   "source": [
    "lines = [\"Hello\\n\", \"Welcome to Python\\n\", \"File Handling\\n\"]\n",
    "\n",
    "file = open(\"example.txt\", \"w\")\n",
    "file.writelines(lines)  # Writes multiple lines\n",
    "file.close()"
   ]
  },
  {
   "cell_type": "code",
   "execution_count": 25,
   "id": "c603efda-ed9c-4663-9e88-12a2c4835e5e",
   "metadata": {},
   "outputs": [],
   "source": [
    "f=open(\"example.txt\",\"a\")\n",
    "f.write(\"This is a new line\")\n",
    "f.close()"
   ]
  },
  {
   "cell_type": "markdown",
   "id": "aae613d0-171b-47a4-8b88-1365e178e9c1",
   "metadata": {},
   "source": [
    "# WITH STATEMENT"
   ]
  },
  {
   "cell_type": "code",
   "execution_count": 26,
   "id": "e0836f49-5ad1-4d7a-b3df-71d82353e8ab",
   "metadata": {},
   "outputs": [
    {
     "name": "stdout",
     "output_type": "stream",
     "text": [
      "Hello\n",
      "Welcome to Python\n",
      "File Handling\n",
      "This is a new line\n"
     ]
    }
   ],
   "source": [
    "with open(\"example.txt\", \"r\") as file:\n",
    "    content = file.read()\n",
    "    print(content)  # No need to manually close the file"
   ]
  },
  {
   "cell_type": "markdown",
   "id": "bb3bc7a9-8c3d-472c-8ded-8d4518b3eaf8",
   "metadata": {},
   "source": [
    "# EXISTENCE OR TO DELETE"
   ]
  },
  {
   "cell_type": "code",
   "execution_count": 32,
   "id": "9a97c708-1201-4d04-a65d-173153fd4ad1",
   "metadata": {},
   "outputs": [
    {
     "name": "stdout",
     "output_type": "stream",
     "text": [
      "File not found!\n"
     ]
    }
   ],
   "source": [
    "import os\n",
    "\n",
    "if os.path.exists(\"exampl.txt\"):\n",
    "    print(\"File exists!\")\n",
    "else:\n",
    "    print(\"File not found!\")"
   ]
  },
  {
   "cell_type": "code",
   "execution_count": 33,
   "id": "a650d835-a9f7-4090-915f-99286e674259",
   "metadata": {},
   "outputs": [
    {
     "name": "stdout",
     "output_type": "stream",
     "text": [
      "File deleted.\n"
     ]
    }
   ],
   "source": [
    "import os\n",
    "\n",
    "if os.path.exists(\"untitled.txt\"):\n",
    "    os.remove(\"untitled.txt\")\n",
    "    print(\"File deleted.\")\n",
    "else:\n",
    "    print(\"File does not exist.\")"
   ]
  },
  {
   "cell_type": "code",
   "execution_count": null,
   "id": "5c582145-5c28-4a94-b09b-2e71c12faa00",
   "metadata": {},
   "outputs": [],
   "source": []
  }
 ],
 "metadata": {
  "kernelspec": {
   "display_name": "Python 3 (ipykernel)",
   "language": "python",
   "name": "python3"
  },
  "language_info": {
   "codemirror_mode": {
    "name": "ipython",
    "version": 3
   },
   "file_extension": ".py",
   "mimetype": "text/x-python",
   "name": "python",
   "nbconvert_exporter": "python",
   "pygments_lexer": "ipython3",
   "version": "3.13.5"
  }
 },
 "nbformat": 4,
 "nbformat_minor": 5
}
