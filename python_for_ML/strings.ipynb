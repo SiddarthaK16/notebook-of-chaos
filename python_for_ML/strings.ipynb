{
 "cells": [
  {
   "cell_type": "code",
   "execution_count": 2,
   "id": "a54c7105-8a02-4409-9dd3-2bd4daa50b28",
   "metadata": {},
   "outputs": [],
   "source": [
    "a=\"anything inside double quotes is a string\""
   ]
  },
  {
   "cell_type": "code",
   "execution_count": 3,
   "id": "29fdf059-142f-4ea2-b55a-a6fa3a470fbf",
   "metadata": {},
   "outputs": [
    {
     "name": "stdout",
     "output_type": "stream",
     "text": [
      "anything inside double quotes is a string\n"
     ]
    }
   ],
   "source": [
    "print(a)"
   ]
  },
  {
   "cell_type": "markdown",
   "id": "14f04840-6c82-44f7-9df5-cb9821837d11",
   "metadata": {},
   "source": [
    "# STRING METHODS"
   ]
  },
  {
   "cell_type": "code",
   "execution_count": 4,
   "id": "57fadab5-dcd7-44e6-abd1-4a03452753c0",
   "metadata": {},
   "outputs": [],
   "source": [
    "name=\"Virat\""
   ]
  },
  {
   "cell_type": "code",
   "execution_count": 5,
   "id": "43c01a3f-4902-4888-bbca-e19735cfbe0d",
   "metadata": {},
   "outputs": [
    {
     "data": {
      "text/plain": [
       "'virat'"
      ]
     },
     "execution_count": 5,
     "metadata": {},
     "output_type": "execute_result"
    }
   ],
   "source": [
    "name.lower()"
   ]
  },
  {
   "cell_type": "code",
   "execution_count": 6,
   "id": "6c50449e-f350-411f-9bb7-375aaf5e9f88",
   "metadata": {},
   "outputs": [
    {
     "data": {
      "text/plain": [
       "'VIRAT'"
      ]
     },
     "execution_count": 6,
     "metadata": {},
     "output_type": "execute_result"
    }
   ],
   "source": [
    "name.upper()"
   ]
  },
  {
   "cell_type": "code",
   "execution_count": 8,
   "id": "f2500e32-12df-405b-8b90-712cf0d9af2e",
   "metadata": {},
   "outputs": [
    {
     "data": {
      "text/plain": [
       "'rat'"
      ]
     },
     "execution_count": 8,
     "metadata": {},
     "output_type": "execute_result"
    }
   ],
   "source": [
    "name[2:5] #Slicing"
   ]
  },
  {
   "cell_type": "code",
   "execution_count": 9,
   "id": "0a1d5006-8b9c-412f-a078-712e5a7c1909",
   "metadata": {},
   "outputs": [
    {
     "data": {
      "text/plain": [
       "3"
      ]
     },
     "execution_count": 9,
     "metadata": {},
     "output_type": "execute_result"
    }
   ],
   "source": [
    "name.find(\"a\")  #After . press TAB to get list of functions"
   ]
  },
  {
   "cell_type": "code",
   "execution_count": 10,
   "id": "469e19bd-ca0d-4708-9c18-0e8cb7444555",
   "metadata": {},
   "outputs": [
    {
     "data": {
      "text/plain": [
       "True"
      ]
     },
     "execution_count": 10,
     "metadata": {},
     "output_type": "execute_result"
    }
   ],
   "source": [
    "name.endswith(\"at\")"
   ]
  },
  {
   "cell_type": "code",
   "execution_count": 11,
   "id": "c975d136-07c3-4b43-9708-6b4ee0788f6a",
   "metadata": {},
   "outputs": [
    {
     "data": {
      "text/plain": [
       "True"
      ]
     },
     "execution_count": 11,
     "metadata": {},
     "output_type": "execute_result"
    }
   ],
   "source": [
    "name.startswith(\"V\")"
   ]
  },
  {
   "cell_type": "code",
   "execution_count": 12,
   "id": "0155eccd-5aab-4fef-8cdc-dece1330eb1a",
   "metadata": {},
   "outputs": [
    {
     "data": {
      "text/plain": [
       "False"
      ]
     },
     "execution_count": 12,
     "metadata": {},
     "output_type": "execute_result"
    }
   ],
   "source": [
    "name.startswith(\"v\")  #Python is case sensitive"
   ]
  },
  {
   "cell_type": "code",
   "execution_count": 13,
   "id": "abfa3a9d-4942-4663-9a53-8ae2b86abdbd",
   "metadata": {},
   "outputs": [
    {
     "data": {
      "text/plain": [
       "1"
      ]
     },
     "execution_count": 13,
     "metadata": {},
     "output_type": "execute_result"
    }
   ],
   "source": [
    "name.count(\"a\")"
   ]
  },
  {
   "cell_type": "code",
   "execution_count": 15,
   "id": "a7007bc0-717d-4c19-98be-f85887069fe2",
   "metadata": {},
   "outputs": [
    {
     "data": {
      "text/plain": [
       "5"
      ]
     },
     "execution_count": 15,
     "metadata": {},
     "output_type": "execute_result"
    }
   ],
   "source": [
    "len(\"hello\")  # 5\n"
   ]
  },
  {
   "cell_type": "code",
   "execution_count": 16,
   "id": "8ea8df8c-c96d-4faf-9a76-937ae12857ab",
   "metadata": {},
   "outputs": [
    {
     "data": {
      "text/plain": [
       "'python'"
      ]
     },
     "execution_count": 16,
     "metadata": {},
     "output_type": "execute_result"
    }
   ],
   "source": [
    "\"   yo bro   \".strip()     # \"yo bro\"\n",
    "\"python!!!\".rstrip(\"!\")    # \"python\"\n"
   ]
  },
  {
   "cell_type": "code",
   "execution_count": 20,
   "id": "2bf68759-3f3e-4d38-a674-5d0d228dfa92",
   "metadata": {},
   "outputs": [
    {
     "name": "stdout",
     "output_type": "stream",
     "text": [
      "-1\n"
     ]
    },
    {
     "ename": "ValueError",
     "evalue": "substring not found",
     "output_type": "error",
     "traceback": [
      "\u001b[1;31m---------------------------------------------------------------------------\u001b[0m",
      "\u001b[1;31mValueError\u001b[0m                                Traceback (most recent call last)",
      "Cell \u001b[1;32mIn[20], line 5\u001b[0m\n\u001b[0;32m      2\u001b[0m \u001b[38;5;124m\"\u001b[39m\u001b[38;5;124mbanana\u001b[39m\u001b[38;5;124m\"\u001b[39m\u001b[38;5;241m.\u001b[39mindex(\u001b[38;5;124m\"\u001b[39m\u001b[38;5;124mna\u001b[39m\u001b[38;5;124m\"\u001b[39m)  \u001b[38;5;66;03m# 2\u001b[39;00m\n\u001b[0;32m      4\u001b[0m \u001b[38;5;28mprint\u001b[39m(name\u001b[38;5;241m.\u001b[39mfind(\u001b[38;5;124m\"\u001b[39m\u001b[38;5;124ms\u001b[39m\u001b[38;5;124m\"\u001b[39m))\n\u001b[1;32m----> 5\u001b[0m \u001b[38;5;28mprint\u001b[39m(name\u001b[38;5;241m.\u001b[39mindex(\u001b[38;5;124m\"\u001b[39m\u001b[38;5;124ms\u001b[39m\u001b[38;5;124m\"\u001b[39m))\n",
      "\u001b[1;31mValueError\u001b[0m: substring not found"
     ]
    }
   ],
   "source": [
    "\"banana\".find(\"na\")   # 2\n",
    "\"banana\".index(\"na\")  # 2\n",
    "\n",
    "print(name.find(\"s\")) #Prints -1 when s not found\n",
    "print(name.index(\"s\")) #Throws error when s not found\n"
   ]
  },
  {
   "cell_type": "code",
   "execution_count": 21,
   "id": "9affccb3-73a2-4393-8d75-34ab5d35ccf2",
   "metadata": {},
   "outputs": [
    {
     "data": {
      "text/plain": [
       "'haha python haha'"
      ]
     },
     "execution_count": 21,
     "metadata": {},
     "output_type": "execute_result"
    }
   ],
   "source": [
    "\"lol python lol\".replace(\"lol\", \"haha\")  \n",
    "# \"haha python haha\"\n"
   ]
  },
  {
   "cell_type": "code",
   "execution_count": 27,
   "id": "2b741c7e-0040-48c2-a66a-bdef78a013da",
   "metadata": {},
   "outputs": [
    {
     "name": "stdout",
     "output_type": "stream",
     "text": [
      "['apple', 'banana', 'grape']\n",
      "Hello world!\n"
     ]
    }
   ],
   "source": [
    "print(\"apple,banana,grape\".split(\",\"))  #string to list\n",
    "# ['apple', 'banana', 'grape']\n",
    "\n",
    "print(\" \".join(['Hello', 'world!']))  #list to string\n",
    "# \"Hello world!\"\n"
   ]
  },
  {
   "cell_type": "code",
   "execution_count": 28,
   "id": "596db8dc-be5d-4f4a-a45e-d7385ac5c997",
   "metadata": {},
   "outputs": [
    {
     "data": {
      "text/plain": [
       "'Hey Sidd, Python says hi!'"
      ]
     },
     "execution_count": 28,
     "metadata": {},
     "output_type": "execute_result"
    }
   ],
   "source": [
    "name = \"Sidd\"\n",
    "f\"Hey {name}, Python says hi!\"   #f strings GOD of strings!!!\n",
    "# \"Hey Sidd, Python says hi!\"\n"
   ]
  },
  {
   "cell_type": "code",
   "execution_count": null,
   "id": "c92fa924-ef9f-4a23-9e4f-ff66165c4a3c",
   "metadata": {},
   "outputs": [],
   "source": []
  }
 ],
 "metadata": {
  "kernelspec": {
   "display_name": "Python 3 (ipykernel)",
   "language": "python",
   "name": "python3"
  },
  "language_info": {
   "codemirror_mode": {
    "name": "ipython",
    "version": 3
   },
   "file_extension": ".py",
   "mimetype": "text/x-python",
   "name": "python",
   "nbconvert_exporter": "python",
   "pygments_lexer": "ipython3",
   "version": "3.13.5"
  }
 },
 "nbformat": 4,
 "nbformat_minor": 5
}
