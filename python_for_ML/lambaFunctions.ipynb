{
 "cells": [
  {
   "cell_type": "markdown",
   "id": "4c01962f-e8aa-484a-8e41-fabb4f6ea397",
   "metadata": {},
   "source": [
    "### lambda arguments: expression"
   ]
  },
  {
   "cell_type": "code",
   "execution_count": 1,
   "id": "7db2d7ec-eed5-47d4-a3d8-5b5730dc590d",
   "metadata": {},
   "outputs": [],
   "source": [
    "cube=lambda x:x**3"
   ]
  },
  {
   "cell_type": "code",
   "execution_count": 2,
   "id": "00ee36e1-166d-4d4b-93b5-c06b9494d1ea",
   "metadata": {},
   "outputs": [
    {
     "data": {
      "text/plain": [
       "27"
      ]
     },
     "execution_count": 2,
     "metadata": {},
     "output_type": "execute_result"
    }
   ],
   "source": [
    "cube(3)"
   ]
  },
  {
   "cell_type": "markdown",
   "id": "df53ba4f-a28a-4bf0-a9ee-814cda0214d0",
   "metadata": {},
   "source": [
    "## A lambda function in Python is an anonymous, single-expression function defined using the lambda keyword. It is commonly used for short, throwaway functions where a full function definition is unnecessary."
   ]
  },
  {
   "cell_type": "code",
   "execution_count": 4,
   "id": "95fe7f80-84d5-45e5-b9ad-677ea65e3906",
   "metadata": {},
   "outputs": [],
   "source": [
    "sum=lambda x, y: x + y"
   ]
  },
  {
   "cell_type": "code",
   "execution_count": 5,
   "id": "b4c4dbfe-9686-4967-88eb-5a258646de0c",
   "metadata": {},
   "outputs": [
    {
     "data": {
      "text/plain": [
       "25"
      ]
     },
     "execution_count": 5,
     "metadata": {},
     "output_type": "execute_result"
    }
   ],
   "source": [
    "sum(10,15)"
   ]
  },
  {
   "cell_type": "code",
   "execution_count": 6,
   "id": "4a404a21-1c90-4d0b-93d6-550b3aece5cb",
   "metadata": {},
   "outputs": [
    {
     "name": "stdout",
     "output_type": "stream",
     "text": [
      "[1, 4, 9, 16]\n"
     ]
    }
   ],
   "source": [
    "numbers = [1, 2, 3, 4]\n",
    "squared = list(map(lambda x: x**2, numbers))  #Applies a function to each element of an iterable.\n",
    "print(squared)  # Output: [1, 4, 9, 16]\n",
    "\n"
   ]
  },
  {
   "cell_type": "code",
   "execution_count": null,
   "id": "d96d240b-777d-48a1-bf20-006f9fd28d0b",
   "metadata": {},
   "outputs": [],
   "source": [
    "numbers = [1, 2, 3, 4, 5, 6]\n",
    "evens = list(filter(lambda x: x % 2 == 0, numbers)) # Filters elements based on a condition.\n",
    "print(evens)  # Output: [2, 4, 6]"
   ]
  },
  {
   "cell_type": "code",
   "execution_count": 7,
   "id": "da00237f-2f92-4277-8761-1475b1442a77",
   "metadata": {},
   "outputs": [
    {
     "name": "stdout",
     "output_type": "stream",
     "text": [
      "[('Bob', 78), ('Alice', 85), ('Charlie', 92)]\n"
     ]
    }
   ],
   "source": [
    "students = [(\"Alice\", 85), (\"Bob\", 78), (\"Charlie\", 92)]\n",
    "students.sort(key=lambda student: student[1])  # Sort by score\n",
    "print(students)  # Output: [('Bob', 78), ('Alice', 85), ('Charlie', 92)]"
   ]
  },
  {
   "cell_type": "code",
   "execution_count": 8,
   "id": "3e774a9e-0e2a-4296-a82f-a662c8b13be3",
   "metadata": {},
   "outputs": [
    {
     "name": "stdout",
     "output_type": "stream",
     "text": [
      "24\n"
     ]
    }
   ],
   "source": [
    "from functools import reduce\n",
    "\n",
    "numbers = [1, 2, 3, 4]\n",
    "product = reduce(lambda x, y: x * y, numbers)  #Reduces an iterable to a single value (requires functools.reduce).\n",
    "print(product)  # Output: 24"
   ]
  },
  {
   "cell_type": "code",
   "execution_count": null,
   "id": "48c36d01-243c-4220-b74e-872a221cbe11",
   "metadata": {},
   "outputs": [],
   "source": []
  }
 ],
 "metadata": {
  "kernelspec": {
   "display_name": "Python 3 (ipykernel)",
   "language": "python",
   "name": "python3"
  },
  "language_info": {
   "codemirror_mode": {
    "name": "ipython",
    "version": 3
   },
   "file_extension": ".py",
   "mimetype": "text/x-python",
   "name": "python",
   "nbconvert_exporter": "python",
   "pygments_lexer": "ipython3",
   "version": "3.13.5"
  }
 },
 "nbformat": 4,
 "nbformat_minor": 5
}
