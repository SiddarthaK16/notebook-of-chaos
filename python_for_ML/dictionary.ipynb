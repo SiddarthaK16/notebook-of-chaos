{
 "cells": [
  {
   "cell_type": "markdown",
   "id": "138857e4-cf03-4476-a673-975eed8a0971",
   "metadata": {},
   "source": [
    "# A dictionary in Python is an unordered, mutable, and key-value pair collection. It allows efficient data retrieval and modification. Dictionaries in Python are ordered as of Python 3.7"
   ]
  },
  {
   "cell_type": "code",
   "execution_count": 1,
   "id": "af415c94-7f86-4071-90d6-292b6b9a03c3",
   "metadata": {},
   "outputs": [],
   "source": [
    "# Empty dictionary\n",
    "empty_dict = {}\n",
    "\n",
    "\n",
    "\n",
    "# Using dict() constructor\n",
    "person = dict(name=\"John\", age=30, city=\"New York\")"
   ]
  },
  {
   "cell_type": "code",
   "execution_count": 2,
   "id": "23f1f962-4d3e-4bc6-8ba4-de78d79e2e47",
   "metadata": {},
   "outputs": [],
   "source": [
    "# Dictionary with key-value pairs\n",
    "student = {\n",
    "    \"name\": \"Alice\",\n",
    "    \"age\": 25,\n",
    "    \"grade\": \"A\"\n",
    "}"
   ]
  },
  {
   "cell_type": "code",
   "execution_count": 3,
   "id": "3811a2ac-15b8-4d8c-9105-7da3f3845474",
   "metadata": {},
   "outputs": [
    {
     "data": {
      "text/plain": [
       "25"
      ]
     },
     "execution_count": 3,
     "metadata": {},
     "output_type": "execute_result"
    }
   ],
   "source": [
    "student[\"age\"]"
   ]
  },
  {
   "cell_type": "code",
   "execution_count": 5,
   "id": "dc5b4635-da85-470f-a096-cf3e405628ba",
   "metadata": {},
   "outputs": [
    {
     "ename": "KeyError",
     "evalue": "'name4'",
     "output_type": "error",
     "traceback": [
      "\u001b[1;31m---------------------------------------------------------------------------\u001b[0m",
      "\u001b[1;31mKeyError\u001b[0m                                  Traceback (most recent call last)",
      "Cell \u001b[1;32mIn[5], line 1\u001b[0m\n\u001b[1;32m----> 1\u001b[0m student[\u001b[38;5;124m\"\u001b[39m\u001b[38;5;124mname4\u001b[39m\u001b[38;5;124m\"\u001b[39m]\n",
      "\u001b[1;31mKeyError\u001b[0m: 'name4'"
     ]
    }
   ],
   "source": [
    "student[\"name4\"]  # Gives error if key value does not exist"
   ]
  },
  {
   "cell_type": "code",
   "execution_count": 14,
   "id": "9613bded-c929-468b-8eb6-170a0f84f3c7",
   "metadata": {},
   "outputs": [
    {
     "name": "stdout",
     "output_type": "stream",
     "text": [
      "404\n"
     ]
    }
   ],
   "source": [
    "print(student.get(\"name4\",404)) # Returns none if key value does not exist"
   ]
  },
  {
   "cell_type": "code",
   "execution_count": 16,
   "id": "91270f9c-9703-4ab1-9a7f-56d111def9ea",
   "metadata": {},
   "outputs": [
    {
     "data": {
      "text/plain": [
       "{'name': 'Alice', 'age': 25, 'grade': 'C'}"
      ]
     },
     "execution_count": 16,
     "metadata": {},
     "output_type": "execute_result"
    }
   ],
   "source": [
    "student[\"grade\"]='C'\n",
    "student"
   ]
  },
  {
   "cell_type": "markdown",
   "id": "78aa8164-50e1-47e6-8e41-786c0f8004b4",
   "metadata": {},
   "source": [
    "# DICTIONARY METHODS"
   ]
  },
  {
   "cell_type": "code",
   "execution_count": 8,
   "id": "7f48e3d1-8235-4347-aa83-b766ced335f7",
   "metadata": {},
   "outputs": [
    {
     "data": {
      "text/plain": [
       "dict_keys(['name', 'age', 'grade'])"
      ]
     },
     "execution_count": 8,
     "metadata": {},
     "output_type": "execute_result"
    }
   ],
   "source": [
    "student.keys()"
   ]
  },
  {
   "cell_type": "code",
   "execution_count": 10,
   "id": "1a87bde1-72d2-4d93-8332-7689a2a54409",
   "metadata": {},
   "outputs": [
    {
     "data": {
      "text/plain": [
       "dict_values(['Alice', 25, 'A'])"
      ]
     },
     "execution_count": 10,
     "metadata": {},
     "output_type": "execute_result"
    }
   ],
   "source": [
    "student.values()"
   ]
  },
  {
   "cell_type": "code",
   "execution_count": 11,
   "id": "74f3f143-8a71-406b-985d-ab0f43d4434d",
   "metadata": {},
   "outputs": [
    {
     "data": {
      "text/plain": [
       "dict_items([('name', 'Alice'), ('age', 25), ('grade', 'A')])"
      ]
     },
     "execution_count": 11,
     "metadata": {},
     "output_type": "execute_result"
    }
   ],
   "source": [
    "student.items()  #Returns key-value pairs as tuples."
   ]
  },
  {
   "cell_type": "code",
   "execution_count": 15,
   "id": "6f57f150-ae6a-421f-90fb-d701ac51e836",
   "metadata": {},
   "outputs": [
    {
     "data": {
      "text/plain": [
       "404"
      ]
     },
     "execution_count": 15,
     "metadata": {},
     "output_type": "execute_result"
    }
   ],
   "source": [
    "student.get(\"name4\",404) #Returns value for key, or default if key not found."
   ]
  },
  {
   "cell_type": "code",
   "execution_count": 17,
   "id": "01b10f10-f699-4274-ba6a-e07d989112a2",
   "metadata": {},
   "outputs": [
    {
     "data": {
      "text/plain": [
       "{'name': 'Alice', 'age': 25, 'grade': 'C', 'department': 'Electronics'}"
      ]
     },
     "execution_count": 17,
     "metadata": {},
     "output_type": "execute_result"
    }
   ],
   "source": [
    "student.update({\"department\" : \"Electronics\"})\n",
    "student"
   ]
  },
  {
   "cell_type": "code",
   "execution_count": 19,
   "id": "386ec275-316e-4211-8e20-6f2c2b2da381",
   "metadata": {},
   "outputs": [
    {
     "data": {
      "text/plain": [
       "'Alice'"
      ]
     },
     "execution_count": 19,
     "metadata": {},
     "output_type": "execute_result"
    }
   ],
   "source": [
    "student.pop(\"name\",404) #Removes key and returns its value (or default if key not found)."
   ]
  },
  {
   "cell_type": "code",
   "execution_count": 20,
   "id": "b6d184b9-c0a9-48e3-97e0-9d72a5ad05cf",
   "metadata": {},
   "outputs": [
    {
     "data": {
      "text/plain": [
       "{'age': 25, 'grade': 'C', 'department': 'Electronics'}"
      ]
     },
     "execution_count": 20,
     "metadata": {},
     "output_type": "execute_result"
    }
   ],
   "source": [
    "student"
   ]
  },
  {
   "cell_type": "code",
   "execution_count": 21,
   "id": "2abd6c08-3552-4e03-b1fa-e08650fbf685",
   "metadata": {},
   "outputs": [
    {
     "data": {
      "text/plain": [
       "('department', 'Electronics')"
      ]
     },
     "execution_count": 21,
     "metadata": {},
     "output_type": "execute_result"
    }
   ],
   "source": [
    "student.popitem() #Removes and returns the last inserted key-value pair."
   ]
  },
  {
   "cell_type": "code",
   "execution_count": 22,
   "id": "f3d82f15-e78f-4148-ab5a-452a6d0d7691",
   "metadata": {},
   "outputs": [
    {
     "data": {
      "text/plain": [
       "'Unknown'"
      ]
     },
     "execution_count": 22,
     "metadata": {},
     "output_type": "execute_result"
    }
   ],
   "source": [
    "student.setdefault(\"city\", \"Unknown\")  #Returns value for key, else sets it to default."
   ]
  },
  {
   "cell_type": "code",
   "execution_count": 23,
   "id": "f8b11d8f-8c45-404e-82c7-d91c0a98e8f2",
   "metadata": {},
   "outputs": [
    {
     "data": {
      "text/plain": [
       "{'age': 25, 'grade': 'C', 'city': 'Unknown'}"
      ]
     },
     "execution_count": 23,
     "metadata": {},
     "output_type": "execute_result"
    }
   ],
   "source": [
    "student"
   ]
  },
  {
   "cell_type": "code",
   "execution_count": 24,
   "id": "851ea78f-9b94-4f40-9abb-7e19c032bb6f",
   "metadata": {},
   "outputs": [
    {
     "data": {
      "text/plain": [
       "{'age': 25, 'grade': 'C', 'city': 'Unknown'}"
      ]
     },
     "execution_count": 24,
     "metadata": {},
     "output_type": "execute_result"
    }
   ],
   "source": [
    "me=student.copy()\n",
    "me"
   ]
  },
  {
   "cell_type": "code",
   "execution_count": 25,
   "id": "5a7393dd-d447-4116-8e7f-1cf085e91f33",
   "metadata": {},
   "outputs": [],
   "source": [
    "student.clear()"
   ]
  },
  {
   "cell_type": "code",
   "execution_count": 26,
   "id": "797f78a9-dc45-46fa-8e8b-ec51f59bbb9d",
   "metadata": {},
   "outputs": [
    {
     "data": {
      "text/plain": [
       "{}"
      ]
     },
     "execution_count": 26,
     "metadata": {},
     "output_type": "execute_result"
    }
   ],
   "source": [
    "student"
   ]
  },
  {
   "cell_type": "code",
   "execution_count": 27,
   "id": "87ed8c13-9d38-4f71-ae54-6ca3979af68a",
   "metadata": {},
   "outputs": [
    {
     "name": "stdout",
     "output_type": "stream",
     "text": [
      "name : Alice\n",
      "age : 26\n",
      "city : New York\n"
     ]
    }
   ],
   "source": [
    "student = {\"name\": \"Alice\", \"age\": 25, \"grade\": \"A\"}\n",
    "\n",
    "# Adding a new key-value pair\n",
    "student[\"city\"] = \"New York\"\n",
    "\n",
    "# Updating an existing value\n",
    "student[\"age\"] = 26\n",
    "\n",
    "# Removing an item\n",
    "student.pop(\"grade\")\n",
    "\n",
    "# Iterating over a dictionary\n",
    "for key, value in student.items():\n",
    "    print(key, \":\", value)\n",
    "\n",
    "# Output:\n",
    "# name : Alice\n",
    "# age : 26\n",
    "# city : New York"
   ]
  },
  {
   "cell_type": "code",
   "execution_count": 30,
   "id": "096acb8b-97d9-489b-9a7f-64a29959dd7b",
   "metadata": {},
   "outputs": [
    {
     "data": {
      "text/plain": [
       "{2: 4,\n",
       " 3: 9,\n",
       " 4: 16,\n",
       " 5: 25,\n",
       " 6: 36,\n",
       " 7: 49,\n",
       " 8: 64,\n",
       " 9: 81,\n",
       " 10: 100,\n",
       " 11: 121,\n",
       " 12: 144,\n",
       " 13: 169,\n",
       " 14: 196,\n",
       " 15: 225,\n",
       " 16: 256,\n",
       " 17: 289,\n",
       " 18: 324,\n",
       " 19: 361}"
      ]
     },
     "execution_count": 30,
     "metadata": {},
     "output_type": "execute_result"
    }
   ],
   "source": [
    "squares={x : x**2 for x in range(2,20) }\n",
    "squares"
   ]
  },
  {
   "cell_type": "code",
   "execution_count": null,
   "id": "c57933b1-ea22-4e5f-bf02-800be6511651",
   "metadata": {},
   "outputs": [],
   "source": []
  }
 ],
 "metadata": {
  "kernelspec": {
   "display_name": "Python 3 (ipykernel)",
   "language": "python",
   "name": "python3"
  },
  "language_info": {
   "codemirror_mode": {
    "name": "ipython",
    "version": 3
   },
   "file_extension": ".py",
   "mimetype": "text/x-python",
   "name": "python",
   "nbconvert_exporter": "python",
   "pygments_lexer": "ipython3",
   "version": "3.13.5"
  }
 },
 "nbformat": 4,
 "nbformat_minor": 5
}
