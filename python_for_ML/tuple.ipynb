{
 "cells": [
  {
   "cell_type": "markdown",
   "id": "e74e0082-f602-4f5d-8e90-2f84b07f4dda",
   "metadata": {},
   "source": [
    "### A tuple in Python is an ordered, immutable collection of elements. It is similar to a list, but once created, its elements cannot be modified."
   ]
  },
  {
   "cell_type": "code",
   "execution_count": 1,
   "id": "fe5770cf-8e15-4a46-bef9-a5337b23a814",
   "metadata": {},
   "outputs": [],
   "source": [
    "# Empty tuple\n",
    "empty_tuple = ()\n",
    "\n",
    "# Tuple with elements\n",
    "numbers = (1, 2, 3, 4, 5)\n",
    "\n",
    "# Mixed data types\n",
    "mixed_tuple = (1, \"Hello\", 3.14, True)\n",
    "\n",
    "# Single element tuple (comma is necessary)\n",
    "single_element = (42,)"
   ]
  },
  {
   "cell_type": "code",
   "execution_count": 2,
   "id": "0f9713f1-c696-4481-9a0e-c10e00aa65c7",
   "metadata": {},
   "outputs": [
    {
     "data": {
      "text/plain": [
       "5"
      ]
     },
     "execution_count": 2,
     "metadata": {},
     "output_type": "execute_result"
    }
   ],
   "source": [
    "len(numbers)"
   ]
  },
  {
   "cell_type": "code",
   "execution_count": 4,
   "id": "5868b2f6-e6d1-48d8-a289-73e17c888721",
   "metadata": {},
   "outputs": [
    {
     "name": "stdout",
     "output_type": "stream",
     "text": [
      "Alice\n",
      "25\n",
      "Engineer\n"
     ]
    }
   ],
   "source": [
    "# Packing\n",
    "person = (\"Alice\", 25, \"Engineer\")\n",
    "\n",
    "# Unpacking\n",
    "name, age, profession = person\n",
    "print(name)  # Alice\n",
    "print(age)   # 25\n",
    "print(profession) #Engineer"
   ]
  },
  {
   "cell_type": "code",
   "execution_count": null,
   "id": "ddf8ffb6-207a-4f0d-9639-412928d6d622",
   "metadata": {},
   "outputs": [],
   "source": []
  }
 ],
 "metadata": {
  "kernelspec": {
   "display_name": "Python 3 (ipykernel)",
   "language": "python",
   "name": "python3"
  },
  "language_info": {
   "codemirror_mode": {
    "name": "ipython",
    "version": 3
   },
   "file_extension": ".py",
   "mimetype": "text/x-python",
   "name": "python",
   "nbconvert_exporter": "python",
   "pygments_lexer": "ipython3",
   "version": "3.13.5"
  }
 },
 "nbformat": 4,
 "nbformat_minor": 5
}
